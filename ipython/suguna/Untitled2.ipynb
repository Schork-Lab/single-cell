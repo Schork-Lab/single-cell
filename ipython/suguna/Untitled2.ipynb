{
 "metadata": {
  "name": "",
  "signature": "sha256:073d419183634bf5eb080ade5e101eb870d358520a7e5e4a9e1cdf0ff818f08e"
 },
 "nbformat": 3,
 "nbformat_minor": 0,
 "worksheets": [
  {
   "cells": [
    {
     "cell_type": "code",
     "collapsed": false,
     "input": [
      "import pandas as pd"
     ],
     "language": "python",
     "metadata": {},
     "outputs": [],
     "prompt_number": 1
    },
    {
     "cell_type": "code",
     "collapsed": false,
     "input": [
      "df = pd.read_table('/home/kunal/test/HCN_RSEM_Tophat-Cufflinks_analysis_data/RSEM/A1-1_S1.genes.results.tsv', sep='\\t')"
     ],
     "language": "python",
     "metadata": {},
     "outputs": [],
     "prompt_number": 2
    },
    {
     "cell_type": "code",
     "collapsed": false,
     "input": [
      "from IPython.display import HTML"
     ],
     "language": "python",
     "metadata": {},
     "outputs": [],
     "prompt_number": 3
    },
    {
     "cell_type": "code",
     "collapsed": false,
     "input": [
      "sample_bam_file = '/home/kunal/test/HCN_RNASEQ_BAM_FILES_08292014/RSEM/A1-1_S1.transcript.sorted.bam'"
     ],
     "language": "python",
     "metadata": {},
     "outputs": [],
     "prompt_number": 1
    },
    {
     "cell_type": "code",
     "collapsed": false,
     "input": [
      "import pysam"
     ],
     "language": "python",
     "metadata": {},
     "outputs": [],
     "prompt_number": 1
    },
    {
     "cell_type": "code",
     "collapsed": false,
     "input": [
      "sample_bam_file = '/home/kunal/A1-1_S1.transcript.sorted.bam'"
     ],
     "language": "python",
     "metadata": {},
     "outputs": [],
     "prompt_number": 4
    },
    {
     "cell_type": "code",
     "collapsed": false,
     "input": [
      "sample_bam = pysam.Samfile(sample_bam_file, mode='rb')"
     ],
     "language": "python",
     "metadata": {},
     "outputs": []
    },
    {
     "cell_type": "code",
     "collapsed": false,
     "input": [
      "sample_bam.mapped"
     ],
     "language": "python",
     "metadata": {},
     "outputs": []
    },
    {
     "cell_type": "code",
     "collapsed": false,
     "input": [
      "sample_bam.mapped"
     ],
     "language": "python",
     "metadata": {},
     "outputs": []
    },
    {
     "cell_type": "code",
     "collapsed": false,
     "input": [
      "HTML(df.head().to_html())"
     ],
     "language": "python",
     "metadata": {},
     "outputs": [
      {
       "html": [
        "<table border=\"1\" class=\"dataframe\">\n",
        "  <thead>\n",
        "    <tr style=\"text-align: right;\">\n",
        "      <th></th>\n",
        "      <th>gene_id</th>\n",
        "      <th>transcript_id(s)</th>\n",
        "      <th>length</th>\n",
        "      <th>effective_length</th>\n",
        "      <th>expected_count</th>\n",
        "      <th>TPM</th>\n",
        "      <th>FPKM</th>\n",
        "      <th>posterior_mean_count</th>\n",
        "      <th>posterior_standard_deviation_of_count</th>\n",
        "      <th>pme_TPM</th>\n",
        "      <th>pme_FPKM</th>\n",
        "      <th>TPM_ci_lower_bound</th>\n",
        "      <th>TPM_ci_upper_bound</th>\n",
        "      <th>FPKM_ci_lower_bound</th>\n",
        "      <th>FPKM_ci_upper_bound</th>\n",
        "    </tr>\n",
        "  </thead>\n",
        "  <tbody>\n",
        "    <tr>\n",
        "      <th>0</th>\n",
        "      <td>              DSRed</td>\n",
        "      <td>                                             DSRed</td>\n",
        "      <td> 1308.00</td>\n",
        "      <td> 1215.36</td>\n",
        "      <td> 0</td>\n",
        "      <td> 0</td>\n",
        "      <td> 0</td>\n",
        "      <td> 0</td>\n",
        "      <td> 0</td>\n",
        "      <td>  1.23</td>\n",
        "      <td>  3.17</td>\n",
        "      <td> 0.000033</td>\n",
        "      <td>  3.70398</td>\n",
        "      <td>  0.000081</td>\n",
        "      <td>  9.51249</td>\n",
        "    </tr>\n",
        "    <tr>\n",
        "      <th>1</th>\n",
        "      <td> ENSG00000000003.10</td>\n",
        "      <td> ENST00000373020.4,ENST00000494424.1,ENST000004...</td>\n",
        "      <td> 1350.33</td>\n",
        "      <td> 1257.70</td>\n",
        "      <td> 0</td>\n",
        "      <td> 0</td>\n",
        "      <td> 0</td>\n",
        "      <td> 0</td>\n",
        "      <td> 0</td>\n",
        "      <td>  4.38</td>\n",
        "      <td> 11.24</td>\n",
        "      <td> 0.344185</td>\n",
        "      <td>  9.70537</td>\n",
        "      <td>  0.878037</td>\n",
        "      <td> 24.90450</td>\n",
        "    </tr>\n",
        "    <tr>\n",
        "      <th>2</th>\n",
        "      <td>  ENSG00000000005.5</td>\n",
        "      <td>               ENST00000373031.4,ENST00000485971.1</td>\n",
        "      <td>  940.50</td>\n",
        "      <td>  847.86</td>\n",
        "      <td> 0</td>\n",
        "      <td> 0</td>\n",
        "      <td> 0</td>\n",
        "      <td> 0</td>\n",
        "      <td> 0</td>\n",
        "      <td>  4.54</td>\n",
        "      <td> 11.65</td>\n",
        "      <td> 0.044224</td>\n",
        "      <td> 11.57180</td>\n",
        "      <td>  0.102408</td>\n",
        "      <td> 29.69400</td>\n",
        "    </tr>\n",
        "    <tr>\n",
        "      <th>3</th>\n",
        "      <td>  ENSG00000000419.8</td>\n",
        "      <td> ENST00000371582.4,ENST00000371583.5,ENST000003...</td>\n",
        "      <td>  974.71</td>\n",
        "      <td>  882.08</td>\n",
        "      <td> 0</td>\n",
        "      <td> 0</td>\n",
        "      <td> 0</td>\n",
        "      <td> 0</td>\n",
        "      <td> 0</td>\n",
        "      <td> 12.42</td>\n",
        "      <td> 31.89</td>\n",
        "      <td> 3.944230</td>\n",
        "      <td> 21.97630</td>\n",
        "      <td> 10.171500</td>\n",
        "      <td> 56.46760</td>\n",
        "    </tr>\n",
        "    <tr>\n",
        "      <th>4</th>\n",
        "      <td>  ENSG00000000457.8</td>\n",
        "      <td> ENST00000367770.1,ENST00000367771.5,ENST000003...</td>\n",
        "      <td> 2585.80</td>\n",
        "      <td> 2493.16</td>\n",
        "      <td> 0</td>\n",
        "      <td> 0</td>\n",
        "      <td> 0</td>\n",
        "      <td> 0</td>\n",
        "      <td> 0</td>\n",
        "      <td>  3.30</td>\n",
        "      <td>  8.46</td>\n",
        "      <td> 0.765432</td>\n",
        "      <td>  6.36496</td>\n",
        "      <td>  1.999950</td>\n",
        "      <td> 16.38320</td>\n",
        "    </tr>\n",
        "  </tbody>\n",
        "</table>"
       ],
       "metadata": {},
       "output_type": "pyout",
       "prompt_number": 7,
       "text": [
        "<IPython.core.display.HTML at 0x7fc54efcf9d0>"
       ]
      }
     ],
     "prompt_number": 7
    },
    {
     "cell_type": "code",
     "collapsed": false,
     "input": [
      "%pylab inline\n",
      "import seaborn as sns"
     ],
     "language": "python",
     "metadata": {},
     "outputs": [
      {
       "output_type": "stream",
       "stream": "stdout",
       "text": [
        "Populating the interactive namespace from numpy and matplotlib\n"
       ]
      }
     ],
     "prompt_number": 4
    },
    {
     "cell_type": "code",
     "collapsed": false,
     "input": [
      "df[df.expected_count != 0].expected_count.hist(range=(0,10))"
     ],
     "language": "python",
     "metadata": {},
     "outputs": [
      {
       "metadata": {},
       "output_type": "pyout",
       "prompt_number": 6,
       "text": [
        "<matplotlib.axes._subplots.AxesSubplot at 0x7fb43c8a8a50>"
       ]
      },
      {
       "metadata": {},
       "output_type": "display_data",
       "png": "[encoded data removed]",
       "text": [
        "<matplotlib.figure.Figure at 0x7fb43c769b10>"
       ]
      }
     ],
     "prompt_number": 6
    },
    {
     "cell_type": "code",
     "collapsed": false,
     "input": [
      "df.expected_count.hist()"
     ],
     "language": "python",
     "metadata": {},
     "outputs": [
      {
       "metadata": {},
       "output_type": "pyout",
       "prompt_number": 10,
       "text": [
        "<matplotlib.axes._subplots.AxesSubplot at 0x7fc53ee77a90>"
       ]
      },
      {
       "output_type": "stream",
       "stream": "stderr",
       "text": [
        "/home/kunal/anaconda/lib/python2.7/site-packages/matplotlib/font_manager.py:1279: UserWarning: findfont: Font family [u'Arial'] not found. Falling back to Bitstream Vera Sans\n",
        "  (prop.get_family(), self.defaultFamily[fontext]))\n"
       ]
      },
      {
       "metadata": {},
       "output_type": "display_data",
       "png": "[encoded data removed]",
       "text": [
        "<matplotlib.figure.Figure at 0x7fc53ee774d0>"
       ]
      }
     ],
     "prompt_number": 10
    },
    {
     "cell_type": "code",
     "collapsed": false,
     "input": [
      "df."
     ],
     "language": "python",
     "metadata": {},
     "outputs": []
    }
   ],
   "metadata": {}
  }
 ]
}