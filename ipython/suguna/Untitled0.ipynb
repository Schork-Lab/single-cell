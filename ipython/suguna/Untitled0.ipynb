{
 "metadata": {
  "name": "",
  "signature": "sha256:1fc09cbdcf73cc3a0d52d848ba0ef4f6b5b3a6f5b531d516648c98435e75e532"
 },
 "nbformat": 3,
 "nbformat_minor": 0,
 "worksheets": [
  {
   "cells": [
    {
     "cell_type": "code",
     "collapsed": false,
     "input": [
      "#put number of reads mapped.\n",
      "#put strand\n",
      "#for bulk see number of reads mapped"
     ],
     "language": "python",
     "metadata": {},
     "outputs": []
    }
   ],
   "metadata": {}
  }
 ]
}