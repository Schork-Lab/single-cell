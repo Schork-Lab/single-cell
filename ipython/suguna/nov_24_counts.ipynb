{
 "metadata": {
  "name": "",
  "signature": "sha256:24b13c05f971fdede9e445e972d01044dc44954a2499017bca2eac4058333daa"
 },
 "nbformat": 3,
 "nbformat_minor": 0,
 "worksheets": [
  {
   "cells": [
    {
     "cell_type": "code",
     "collapsed": false,
     "input": [
      "import pandas as pd"
     ],
     "language": "python",
     "metadata": {},
     "outputs": [],
     "prompt_number": 1
    },
    {
     "cell_type": "code",
     "collapsed": false,
     "input": [
      "count_file = '/home/kunal/tscc_projects/lasken/code/pipeline/htseq-count/combined.counts'"
     ],
     "language": "python",
     "metadata": {},
     "outputs": [],
     "prompt_number": 3
    },
    {
     "cell_type": "code",
     "collapsed": true,
     "input": [
      "count_df = pd.read_table(count_file)"
     ],
     "language": "python",
     "metadata": {},
     "outputs": [],
     "prompt_number": 4
    },
    {
     "cell_type": "code",
     "collapsed": false,
     "input": [
      "count_df.sum()"
     ],
     "language": "python",
     "metadata": {},
     "outputs": [
      {
       "metadata": {},
       "output_type": "pyout",
       "prompt_number": 6,
       "text": [
        "id            ENSG00000223972ENSG00000227232ENSG00000243485E...\n",
        "S10.counts                                                96792\n",
        "S11.counts                                               183124\n",
        "S12.counts                                               152008\n",
        "S13.counts                                               282224\n",
        "S14.counts                                               129718\n",
        "S15.counts                                               141760\n",
        "S16.counts                                                42503\n",
        "S17.counts                                                 1332\n",
        "S18.counts                                               233744\n",
        "S19.counts                                               191565\n",
        "S1.counts                                                100217\n",
        "S20.counts                                                30299\n",
        "S21.counts                                                 9394\n",
        "S22.counts                                               367171\n",
        "S23.counts                                               272085\n",
        "S2.counts                                                100056\n",
        "S3.counts                                                396808\n",
        "S4.counts                                                293445\n",
        "S5.counts                                                112086\n",
        "S6.counts                                                 73987\n",
        "S7.counts                                                247201\n",
        "S8.counts                                                146115\n",
        "S9.counts                                                 35936\n",
        "S0.counts                                                 47990\n",
        "dtype: object"
       ]
      }
     ],
     "prompt_number": 6
    },
    {
     "cell_type": "code",
     "collapsed": false,
     "input": [
      "sample_names = \"\"\"\n",
      "3AHCN100pg111314\n",
      "3BHCN10pg111314\n",
      "3DHCN100pg111314\n",
      "3EHCN10pg111314\n",
      "1E1HCNP111314\n",
      "1F1HCNP111314\n",
      "1G1HCNP111314\n",
      "1H1HCNP111314\n",
      "2A1HCNPN111314\n",
      "2B1HCNPN111314\n",
      "2C1HCNPN111314\n",
      "2D1HCNPN111314\n",
      "2G1HCNPN111314\n",
      "2H1HCNPN111314\n",
      "1A1HCNPD1102414\n",
      "1E1HCNPD1102414\n",
      "2C1HCNPD2102414\n",
      "3B1HCNPD3102414\n",
      "3F1HCNPD3102414\n",
      "7A8HCNPD2102414\n",
      "7D24HCNPD2102414\n",
      "7E48HCNPD2102414\n",
      "7F96HCNPD2102414\n",
      "\"\"\".split()"
     ],
     "language": "python",
     "metadata": {},
     "outputs": [],
     "prompt_number": 10
    },
    {
     "cell_type": "code",
     "collapsed": false,
     "input": [
      "columns = ['gene_id']+['S0']+sample_names"
     ],
     "language": "python",
     "metadata": {},
     "outputs": [],
     "prompt_number": 19
    },
    {
     "cell_type": "code",
     "collapsed": false,
     "input": [
      "count_df.columns = columns"
     ],
     "language": "python",
     "metadata": {},
     "outputs": [],
     "prompt_number": 20
    },
    {
     "cell_type": "code",
     "collapsed": false,
     "input": [
      "count_df.sum()"
     ],
     "language": "python",
     "metadata": {},
     "outputs": [
      {
       "metadata": {},
       "output_type": "pyout",
       "prompt_number": 21,
       "text": [
        "gene_id             ENSG00000223972ENSG00000227232ENSG00000243485E...\n",
        "S0                                                              96792\n",
        "3AHCN100pg111314                                               183124\n",
        "3BHCN10pg111314                                                152008\n",
        "3DHCN100pg111314                                               282224\n",
        "3EHCN10pg111314                                                129718\n",
        "1E1HCNP111314                                                  141760\n",
        "1F1HCNP111314                                                   42503\n",
        "1G1HCNP111314                                                    1332\n",
        "1H1HCNP111314                                                  233744\n",
        "2A1HCNPN111314                                                 191565\n",
        "2B1HCNPN111314                                                 100217\n",
        "2C1HCNPN111314                                                  30299\n",
        "2D1HCNPN111314                                                   9394\n",
        "2G1HCNPN111314                                                 367171\n",
        "2H1HCNPN111314                                                 272085\n",
        "1A1HCNPD1102414                                                100056\n",
        "1E1HCNPD1102414                                                396808\n",
        "2C1HCNPD2102414                                                293445\n",
        "3B1HCNPD3102414                                                112086\n",
        "3F1HCNPD3102414                                                 73987\n",
        "7A8HCNPD2102414                                                247201\n",
        "7D24HCNPD2102414                                               146115\n",
        "7E48HCNPD2102414                                                35936\n",
        "7F96HCNPD2102414                                                47990\n",
        "dtype: object"
       ]
      }
     ],
     "prompt_number": 21
    },
    {
     "cell_type": "code",
     "collapsed": false,
     "input": [],
     "language": "python",
     "metadata": {},
     "outputs": []
    }
   ],
   "metadata": {}
  }
 ]
}