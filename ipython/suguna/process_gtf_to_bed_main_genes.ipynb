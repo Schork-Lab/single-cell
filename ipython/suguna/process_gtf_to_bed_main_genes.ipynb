{
 "metadata": {
  "name": "",
  "signature": "sha256:a1b9a11455a93dc1e021dfc17089a007983b322abed56913d43824e49c15f09f"
 },
 "nbformat": 3,
 "nbformat_minor": 0,
 "worksheets": [
  {
   "cells": [
    {
     "cell_type": "code",
     "collapsed": false,
     "input": [
      "import sys\n",
      "sys.path.append('../../src/')"
     ],
     "language": "python",
     "metadata": {},
     "outputs": [],
     "prompt_number": 1
    },
    {
     "cell_type": "code",
     "collapsed": false,
     "input": [
      "from helpers import *"
     ],
     "language": "python",
     "metadata": {},
     "outputs": [],
     "prompt_number": 2
    },
    {
     "cell_type": "code",
     "collapsed": false,
     "input": [
      "import helpers"
     ],
     "language": "python",
     "metadata": {},
     "outputs": [],
     "prompt_number": 4
    },
    {
     "cell_type": "code",
     "collapsed": false,
     "input": [
      "helpers.local_to_tscc()"
     ],
     "language": "python",
     "metadata": {},
     "outputs": []
    },
    {
     "cell_type": "code",
     "collapsed": false,
     "input": [
      "import os"
     ],
     "language": "python",
     "metadata": {},
     "outputs": [],
     "prompt_number": 3
    },
    {
     "cell_type": "code",
     "collapsed": false,
     "input": [
      "reference = os.path.join(local_data, 'reference')\n",
      "tscc_reference = local_to_tscc(reference)"
     ],
     "language": "python",
     "metadata": {},
     "outputs": [],
     "prompt_number": 5
    },
    {
     "cell_type": "code",
     "collapsed": false,
     "input": [
      "!ls $reference"
     ],
     "language": "python",
     "metadata": {},
     "outputs": [
      {
       "output_type": "stream",
       "stream": "stdout",
       "text": [
        "bedtools-2.22.0.tar.gz\t\t     gapdh.bed\t\t\t    GRCh37_ERCC_GFP_RNASpikes.dict    GRCh37_ERCC_GFP_RNASpikes.gtf\t     gtf2bed_2.pl   hg19_chrom_info.txt\r\n",
        "ensembl_ercc_and_intergenic.bed.fai  gapdh.gtf\t\t\t    GRCh37_ERCC_GFP_RNASpikes.fa      GRCh37_ERCC_GFP_RNASpikes.no_ercc.bed  gtf_based\t    ucsc_genome_browser_based\r\n",
        "fetchChromSizes\t\t\t     GRCh37_ERCC_GFP_RNASpikes.bed  GRCh37_ERCC_GFP_RNASpikes.fa.fai  grch37.gtf\t\t\t     gtf_to_bed.sh\r\n"
       ]
      }
     ],
     "prompt_number": 8
    },
    {
     "cell_type": "code",
     "collapsed": false,
     "input": [
      "local_gtf = os.path.join(reference, 'GRCh37_ERCC_GFP_RNASpikes.gtf')\n",
      "tscc_gtf = local_to_tscc(local_gtf)"
     ],
     "language": "python",
     "metadata": {},
     "outputs": [],
     "prompt_number": 23
    },
    {
     "cell_type": "code",
     "collapsed": false,
     "input": [
      "tscc_gtf"
     ],
     "language": "python",
     "metadata": {},
     "outputs": [
      {
       "metadata": {},
       "output_type": "pyout",
       "prompt_number": 24,
       "text": [
        "'/projects/ps-jcvi/projects/Lasken_Single_Cell/data/reference/GRCh37_ERCC_GFP_RNASpikes.gtf'"
       ]
      }
     ],
     "prompt_number": 24
    },
    {
     "cell_type": "code",
     "collapsed": false,
     "input": [
      "main_genes = \"\"\"GAPDH\n",
      "ACTB\n",
      "B2M\n",
      "GUSB\n",
      "TBP\n",
      "PPIA\n",
      "ELAVL4\n",
      "MAP2\n",
      "RBFOX3\"\"\".split()"
     ],
     "language": "python",
     "metadata": {},
     "outputs": [],
     "prompt_number": 10
    },
    {
     "cell_type": "code",
     "collapsed": false,
     "input": [
      "python_bin = \"/opt/python/bin/python2.7\"\n",
      "gtf2bed = \"/home/kbhutani/libraries/bin/gtf2bed2.py\""
     ],
     "language": "python",
     "metadata": {},
     "outputs": [],
     "prompt_number": 11
    },
    {
     "cell_type": "code",
     "collapsed": false,
     "input": [
      "tscc_bed_dir = os.path.join(tscc_reference, 'beds')\n",
      "bed_dir = os.path.join(reference, 'beds')"
     ],
     "language": "python",
     "metadata": {},
     "outputs": [],
     "prompt_number": 18
    },
    {
     "cell_type": "code",
     "collapsed": false,
     "input": [
      "def gene_gtf_to_bed(gene_name, out_file=None):\n",
      "    gene_gtf = os.path.join(tscc_bed_dir, gene_name+'.gtf')\n",
      "    if not out_file:\n",
      "        out_file = os.path.join(tscc_bed_dir, gene_name+'.bed')\n",
      "    commands = []\n",
      "    commands.append(\"grep 'gene_name \\\"%s\\\"' %s > %s\" % (gene_name, tscc_gtf, gene_gtf))\n",
      "    commands.append(\"%s %s > %s\" % (gtf2bed, gene_gtf, out_file))\n",
      "    return \"\\n\".join(commands)"
     ],
     "language": "python",
     "metadata": {},
     "outputs": [],
     "prompt_number": 35
    },
    {
     "cell_type": "code",
     "collapsed": false,
     "input": [
      "def create_qsub_file(command, outFile, jobID=None, qSubF=None, queue=\"hotel\", cores=\"1\", hours=\"1:00:00\"):\n",
      "    if not jobID:\n",
      "        jobid = os.path.basename(outFile)\n",
      "    if not qSubF:\n",
      "        qsubF = os.path.basename(outFile)+\".oe\"\n",
      "    \n",
      "    out = open(outFile, 'w')\n",
      "    out.write(\"#!/bin/bash\\n\")\n",
      "    out.write(\"#PBS -N %s\\n\" % jobID)\n",
      "    out.write(\"#PBS -q %s\\n\" % queue)\n",
      "    out.write(\"#PBS -o %s.oe\\n\" % qSubF)\n",
      "    out.write(\"#PBS -j oe\\n\")\n",
      "    out.write(\"#PBS -M kunalbhutani@gmail.com\\n\")\n",
      "    out.write(\"#PBS -l walltime=%s:00:00\\n\" % hours)\n",
      "    out.write(\"#PBS -l nodes=1:ppn=%s\\n\" % cores)\n",
      "    out.write(\"#PBS -A schork-group\\n\")\n",
      "    #out.write(\"#PBS -A janssen-group\\n\")\n",
      "    out.write(\"#PBS -m abe\\n\")\n",
      "    out.write(\"\\n\")\n",
      "    out.write(\"echo \\\"<startTime>\\\"`date`\\\"</startTime>\\\"\\n\")\n",
      "    out.write(\"echo \\\"<output>\\\"\\n\")\n",
      "    out.write(\"%s\\n\" % command)\n",
      "    out.write(\"echo \\\"</output>\\\"\\n\")\n",
      "    out.write(\"echo \\\"<exitStatus>\\\"$?\\\"</exitStatus>\\\"\\n\")\n",
      "    out.write(\"echo \\\"<stopTime>\\\"`date`\\\"</stopTime>\\\"\\n\")\n",
      "    out.write(\"qstat -f $PBS_JOBID | grep Job\\n\")\n",
      "    out.write(\"qstat -f $PBS_JOBID | grep Resource\\n\")\n",
      "    out.close()\n"
     ],
     "language": "python",
     "metadata": {},
     "outputs": [],
     "prompt_number": 32
    },
    {
     "cell_type": "code",
     "collapsed": false,
     "input": [
      "def create_gene_qsubs(gene_name):\n",
      "    command = gene_gtf_to_bed(gene_name)\n",
      "    out_qsub = os.path.join(bed_dir, gene_name+\".qsub\")\n",
      "    create_qsub_file(command, out_qsub)"
     ],
     "language": "python",
     "metadata": {},
     "outputs": [],
     "prompt_number": 33
    },
    {
     "cell_type": "code",
     "collapsed": false,
     "input": [
      "os.mkdir(bed_dir)"
     ],
     "language": "python",
     "metadata": {},
     "outputs": [
      {
       "ename": "OSError",
       "evalue": "[Errno 17] File exists: '/home/kunal/tscc_projects/lasken/data/reference/beds'",
       "output_type": "pyerr",
       "traceback": [
        "\u001b[1;31m---------------------------------------------------------------------------\u001b[0m\n\u001b[1;31mOSError\u001b[0m                                   Traceback (most recent call last)",
        "\u001b[1;32m<ipython-input-28-9343cbe09ab2>\u001b[0m in \u001b[0;36m<module>\u001b[1;34m()\u001b[0m\n\u001b[1;32m----> 1\u001b[1;33m \u001b[0mos\u001b[0m\u001b[1;33m.\u001b[0m\u001b[0mmkdir\u001b[0m\u001b[1;33m(\u001b[0m\u001b[0mbed_dir\u001b[0m\u001b[1;33m)\u001b[0m\u001b[1;33m\u001b[0m\u001b[0m\n\u001b[0m",
        "\u001b[1;31mOSError\u001b[0m: [Errno 17] File exists: '/home/kunal/tscc_projects/lasken/data/reference/beds'"
       ]
      }
     ],
     "prompt_number": 28
    },
    {
     "cell_type": "code",
     "collapsed": false,
     "input": [
      "main_genes"
     ],
     "language": "python",
     "metadata": {},
     "outputs": [
      {
       "metadata": {},
       "output_type": "pyout",
       "prompt_number": 38,
       "text": [
        "['GAPDH', 'ACTB', 'B2M', 'GUSB', 'TBP', 'PPIA', 'ELAVL4', 'MAP2', 'RBFOX3']"
       ]
      }
     ],
     "prompt_number": 38
    },
    {
     "cell_type": "code",
     "collapsed": false,
     "input": [
      "for gene in main_genes:\n",
      "    create_gene_qsubs(gene)"
     ],
     "language": "python",
     "metadata": {},
     "outputs": [],
     "prompt_number": 37
    },
    {
     "cell_type": "code",
     "collapsed": false,
     "input": [],
     "language": "python",
     "metadata": {},
     "outputs": []
    }
   ],
   "metadata": {}
  }
 ]
}