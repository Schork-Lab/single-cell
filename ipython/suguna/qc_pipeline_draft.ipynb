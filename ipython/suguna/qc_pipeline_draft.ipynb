{
 "metadata": {
  "name": "",
  "signature": "sha256:a18505264a634666b948931b56660565ccc4a1f0d7a528eaaa5e6ef5c8953170"
 },
 "nbformat": 3,
 "nbformat_minor": 0,
 "worksheets": [
  {
   "cells": [
    {
     "cell_type": "code",
     "collapsed": false,
     "input": [
      "import sys\n",
      "sys.path.append('../../src')"
     ],
     "language": "python",
     "metadata": {},
     "outputs": [],
     "prompt_number": 1
    },
    {
     "cell_type": "code",
     "collapsed": false,
     "input": [
      "from helpers import *"
     ],
     "language": "python",
     "metadata": {},
     "outputs": [],
     "prompt_number": 2
    },
    {
     "cell_type": "code",
     "collapsed": false,
     "input": [
      "rseqc_path = \"/home/kbhutani/tools/rna_seq/RSeQC-2.4/build/scripts-2.7\""
     ],
     "language": "python",
     "metadata": {},
     "outputs": [],
     "prompt_number": 6
    },
    {
     "cell_type": "code",
     "collapsed": false,
     "input": [
      "class RSeqCRunner()"
     ],
     "language": "python",
     "metadata": {},
     "outputs": []
    },
    {
     "cell_type": "code",
     "collapsed": false,
     "input": [
      "bam_file = None\n",
      "bed_file = None\n",
      "out_dir = None\n"
     ],
     "language": "python",
     "metadata": {},
     "outputs": [],
     "prompt_number": 7
    },
    {
     "cell_type": "code",
     "collapsed": false,
     "input": [],
     "language": "python",
     "metadata": {},
     "outputs": []
    },
    {
     "cell_type": "code",
     "collapsed": false,
     "input": [
      "#!/bin/sh\n",
      "\n",
      "####################### !!! ##########################\n",
      "# Make sure you add these to your path before running:\n",
      "# export PYTHONPATH=/share/apps/RSeQC/usr/local/lib/python2.7/site-packages:$PYTHONPATH\n",
      "# export PATH=/share/apps/RSeQC/usr/local/bin:$PATH\n",
      "####################### !!! ##########################\n",
      "\n",
      "# Example run:\n",
      "# rseqc.sh ~/data/my_favorite_sample.bam ~/results/rseqc/my_favorite_sample /share/reference/hg19/genes/hg19_ucsc-genes.bed\n",
      "##\n",
      "# Example using bash scripting:\n",
      "# rseqc.sh $BAM $OUT_DIR $BED\n",
      "\n",
      "# things needed by SGE\n",
      "#$ -cwd\n",
      "#$ -q big.q\n",
      "#$ -S /bin/bash\n",
      "# export PYTHONPATH=/share/apps/RSeQC/usr/local/lib/python2.7/site-packages:$PYTHONPATH\n",
      "# export PATH=/share/apps/RSeQC/usr/local/bin:/share/apps/python-2.7/bin/:/share/apps/bin:$PATH\n",
      "# RSEQC_BIN=/share/apps/RSeQC/usr/local/bin\n",
      "\n",
      "# BAM file that you want to do the analysis on\n",
      "BAM=$1\n",
      "\n",
      "# Output directory where you want all the results to go\n",
      "# Files will be prepended with \"$OUT_DIR/rseqc\"\n",
      "OUT_DIR=$2\n",
      "\n",
      "# BED files of which you want to see the gene body coverage\n",
      "BED=$3\n",
      "\n",
      "# Make plots via PREFIX\n",
      "PREFIX=$OUT_DIR/rseqc\n",
      "\n",
      "echo 'executing: clipping_profile.py' ; clipping_profile.py --input-file $BAM --out-prefix $PREFIX\n",
      "echo 'executing: geneBody_coverage.py' ; geneBody_coverage.py --input-file $BAM --refgene $BED --out-prefix $PREFIX\n",
      "echo 'executing: infer_experiment.py' ; infer_experiment.py --input-file $BAM --refgene $BED >$PREFIX.infer_experiment.txt\n",
      "echo 'executing: inner_distance.py' ; inner_distance.py --input-file $BAM --refgene $BED --out-prefix $PREFIX\n",
      "echo 'executing: junction_annotation.py' ; junction_annotation.py --input-file $BAM --refgene $BED --out-prefix $PREFIX >$PREFIX.junction_annotation.txt\n",
      "echo 'executing: junction_saturation.py' ; junction_saturation.py --input-file $BAM --refgene $BED --out-prefix $PREFIX\n",
      "echo 'executing: read_distribution.py' ; read_distribution.py --input-file $BAM --refgene $BED > $PREFIX.read_distribution.txt\n",
      "echo 'executing: read_duplication.py' ; read_duplication.py --input-file $BAM --out-prefix $PREFIX\n",
      "echo 'executing: read_GC.py' ; read_GC.py --input-file $BAM --out-prefix $PREFIX\n",
      "echo 'executing: read_NVC.py' ; read_NVC.py --input-file $BAM --out-prefix $PREFIX\n",
      "echo 'executing: read_quality.py' ; read_quality.py --input-file $BAM --out-prefix $PREFIX\n",
      "echo 'executing: RPKM_count.py' ; RPKM_count.py --input-file $BAM --out-prefix $PREFIX --refgene $BED\n",
      "echo 'executing: RPKM_saturation.py' ; RPKM_saturation.py --input-file $BAM --out-prefix $PREFIX --refgene $BED "
     ],
     "language": "python",
     "metadata": {},
     "outputs": []
    }
   ],
   "metadata": {}
  }
 ]
}