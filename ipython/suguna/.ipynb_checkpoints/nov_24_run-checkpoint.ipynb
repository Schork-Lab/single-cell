{
 "metadata": {
  "name": "",
  "signature": "sha256:021f58d1c659a9d3bc7f740b4ee0bb539100dc73713a937bf8c53972b8739df7"
 },
 "nbformat": 3,
 "nbformat_minor": 0,
 "worksheets": [
  {
   "cells": [
    {
     "cell_type": "code",
     "collapsed": false,
     "input": [
      "import sys\n",
      "sys.path.append('../../src/')"
     ],
     "language": "python",
     "metadata": {},
     "outputs": [],
     "prompt_number": 1
    },
    {
     "cell_type": "code",
     "collapsed": false,
     "input": [
      "from helpers import *"
     ],
     "language": "python",
     "metadata": {},
     "outputs": [],
     "prompt_number": 2
    },
    {
     "cell_type": "code",
     "collapsed": false,
     "input": [
      "sample_files = !ls $local_data/nov_24_run/fastq"
     ],
     "language": "python",
     "metadata": {},
     "outputs": [],
     "prompt_number": 6
    },
    {
     "cell_type": "code",
     "collapsed": false,
     "input": [
      "run_template_yaml = '../../pipeline/run_template.yaml'"
     ],
     "language": "python",
     "metadata": {},
     "outputs": [],
     "prompt_number": 22
    },
    {
     "cell_type": "code",
     "collapsed": false,
     "input": [
      "!head $run_template_yaml"
     ],
     "language": "python",
     "metadata": {},
     "outputs": [
      {
       "output_type": "stream",
       "stream": "stdout",
       "text": [
        "fc_date: experiment_date\r\n",
        "fc_name: experiment_name\r\n",
        "upload:\r\n",
        "  dir: output_dir\r\n"
       ]
      }
     ],
     "prompt_number": 23
    },
    {
     "cell_type": "code",
     "collapsed": false,
     "input": [
      "samples_dir = tscc_data+'/nov_24_run/fastq'"
     ],
     "language": "python",
     "metadata": {},
     "outputs": [],
     "prompt_number": 15
    },
    {
     "cell_type": "code",
     "collapsed": false,
     "input": [
      "run_info = {}\n",
      "run_info['experiment_date'] = 'Nov 24 2014'\n",
      "run_info['experiment_name'] = 'Various Sample Info'"
     ],
     "language": "python",
     "metadata": {},
     "outputs": [],
     "prompt_number": 16
    },
    {
     "cell_type": "code",
     "collapsed": false,
     "input": [
      "import os"
     ],
     "language": "python",
     "metadata": {},
     "outputs": [],
     "prompt_number": 17
    },
    {
     "cell_type": "code",
     "collapsed": false,
     "input": [
      "for i in range(0, len(sample_files), 2):\n",
      "    run_info['file1'] = os.path.join(samples_dir, sample_files[i])\n",
      "    run_info['file2'] = os.path.join(samples_dir, sample_files[i+1])\n",
      "    run_info['sample_name'] = \n",
      "    with open(template_yaml) as IN:\n",
      "        for line in IN:\n",
      "            for key, value in run_info.items():\n",
      "                line = line.replace(key, value)\n",
      "            print line\n",
      "        break"
     ],
     "language": "python",
     "metadata": {},
     "outputs": [
      {
       "output_type": "stream",
       "stream": "stdout",
       "text": [
        "fc_date: Nov 24 2014\n",
        "\n",
        "fc_name: Various Sample Info\n",
        "\n",
        "upload:\n",
        "\n",
        "  dir: output_dir\n",
        "\n",
        "details:\n",
        "\n",
        "  - files: [/projects/ps-jcvi/projects/Lasken_Single_Cell/data/nov_24_run/fastq/HCN_S10_L001_R1_001.fastq, /projects/ps-jcvi/projects/Lasken_Single_Cell/data/nov_24_run/fastq/HCN_S10_L001_R2_001.fastq] \n",
        "\n",
        "    description: sample_name\n",
        "\n",
        "    genome_build: GRCh37\n",
        "\n",
        "    analysis: RNA-seq\n",
        "\n",
        "    algorithm:\n",
        "\n",
        "         aligner: tophat2\n",
        "\n",
        "         quality_format: Standard\n",
        "\n",
        "         trim_reads: read_through\n",
        "\n",
        "         adapters: [smartseq2, nextera]\n",
        "\n",
        "         strandedness: unstranded\n",
        "\n"
       ]
      }
     ],
     "prompt_number": 21
    },
    {
     "cell_type": "code",
     "collapsed": false,
     "input": [],
     "language": "python",
     "metadata": {},
     "outputs": []
    }
   ],
   "metadata": {}
  }
 ]
}