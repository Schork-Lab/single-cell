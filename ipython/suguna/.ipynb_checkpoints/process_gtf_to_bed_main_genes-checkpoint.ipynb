{
 "metadata": {
  "name": "",
  "signature": "sha256:5cb3ac55485e826c6b8827ec362cef3f6a9af1c9b447ef2e774125f3814d8daa"
 },
 "nbformat": 3,
 "nbformat_minor": 0,
 "worksheets": []
}