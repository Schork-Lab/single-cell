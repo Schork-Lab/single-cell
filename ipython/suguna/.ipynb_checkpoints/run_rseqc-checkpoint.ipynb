{
 "metadata": {
  "name": "",
  "signature": "sha256:76fdf1b113393dcc0c11956eb2ecc31147dbcd583c5d21da2e59e783a42e8c59"
 },
 "nbformat": 3,
 "nbformat_minor": 0,
 "worksheets": [
  {
   "cells": [
    {
     "cell_type": "code",
     "collapsed": false,
     "input": [
      "import sys\n",
      "sys.path.append('../../src/')"
     ],
     "language": "python",
     "metadata": {},
     "outputs": [],
     "prompt_number": 1
    },
    {
     "cell_type": "code",
     "collapsed": false,
     "input": [
      "from helpers import *"
     ],
     "language": "python",
     "metadata": {},
     "outputs": [],
     "prompt_number": 2
    },
    {
     "cell_type": "code",
     "collapsed": false,
     "input": [
      "import os"
     ],
     "language": "python",
     "metadata": {},
     "outputs": [],
     "prompt_number": 3
    },
    {
     "cell_type": "code",
     "collapsed": false,
     "input": [
      "reference = os.path.join(local_data, 'reference')\n",
      "tscc_reference = local_to_tscc(reference)\n",
      "tscc_bed_dir = os.path.join(tscc_reference, 'beds')\n",
      "bed_dir = os.path.join(reference, 'beds')"
     ],
     "language": "python",
     "metadata": {},
     "outputs": [],
     "prompt_number": 4
    },
    {
     "cell_type": "code",
     "collapsed": false,
     "input": [
      "python_bin = \"/opt/python/bin/python2.7\"\n",
      "gtf2bed = \"/home/kbhutani/libraries/bin/gtf2bed2.py\""
     ],
     "language": "python",
     "metadata": {},
     "outputs": [],
     "prompt_number": 5
    },
    {
     "cell_type": "code",
     "collapsed": false,
     "input": [
      "rseqc_bash = '''\n",
      "#!/bin/sh\n",
      "\n",
      "# BAM file that you want to do the analysis on\n",
      "BAM=$1\n",
      "\n",
      "# Output directory where you want all the results to go\n",
      "# Files will be prepended with \"$OUT_DIR/rseqc\"\n",
      "OUT_DIR=$2\n",
      "\n",
      "# BED files of which you want to see the gene body coverage\n",
      "BED=$3\n",
      "\n",
      "GENE_BEDS=${@: 4}\n",
      "\n",
      "# Make plots via PREFIX\n",
      "PREFIX=$OUT_DIR/rseqc\n",
      "RSeQCDIR=/home/kbhutani/tools/rna_seq/RSeQC-2.4/build/scripts-2.7\n",
      "PYTHON=/opt/python/bin/python2.7\n",
      "\n",
      "module load scipy/2.7\n",
      "module load R\n",
      "echo 'executing: clipping_profile.py' ; $PYTHON $RSeQCDIR/clipping_profile.py --input-file $BAM --out-prefix $PREFIX\n",
      "\n",
      "for gene_bed in $GENE_BEDS\n",
      "    do \n",
      "        echo \"executing: geneBody_coverage.py for $gene_bed\"\n",
      "        s=${gene_bed##*/}\n",
      "        out_prefix=\"$PREFIX-${s%.bed}\"\n",
      "        echo $out_prefix\n",
      "        $PYTHON $RSeQCDIR/geneBody_coverage.py -i $BAM --refgene $gene_bed --out-prefix $out_prefix\n",
      "    done\n",
      "echo 'executing: infer_experiment.py' ; $PYTHON $RSeQCDIR/infer_experiment.py --input-file $BAM --refgene $BED >$PREFIX.infer_experiment.txt\n",
      "echo 'executing: inner_distance.py' ; $PYTHON $RSeQCDIR/inner_distance.py --input-file $BAM --refgene $BED --out-prefix $PREFIX\n",
      "echo 'executing: junction_annotation.py' ; $PYTHON $RSeQCDIR/junction_annotation.py --input-file $BAM --refgene $BED --out-prefix $PREFIX >$PREFIX.junction_annotation.txt\n",
      "echo 'executing: junction_saturation.py' ; $PYTHON $RSeQCDIR/junction_saturation.py --input-file $BAM --refgene $BED --out-prefix $PREFIX\n",
      "echo 'executing: read_distribution.py' ; $PYTHON $RSeQCDIR/read_distribution.py --input-file $BAM --refgene $BED > $PREFIX.read_distribution.txt\n",
      "echo 'executing: read_duplication.py' ; $PYTHON $RSeQCDIR/read_duplication.py --input-file $BAM --out-prefix $PREFIX\n",
      "echo 'executing: read_GC.py' ; $PYTHON $RSeQCDIR/read_GC.py --input-file $BAM --out-prefix $PREFIX\n",
      "echo 'executing: read_NVC.py' ; $PYTHON $RSeQCDIR/read_NVC.py --input-file $BAM --out-prefix $PREFIX\n",
      "echo 'executing: read_quality.py' ; $PYTHON $RSeQCDIR/read_quality.py --input-file $BAM --out-prefix $PREFIX\n",
      "echo 'executing: RPKM_count.py' ; $PYTHON $RSeQCDIR/RPKM_count.py --input-file $BAM --out-prefix $PREFIX --refgene $BED\n",
      "echo 'executing: RPKM_saturation.py' ; $PYTHON $RSeQCDIR/RPKM_saturation.py --input-file $BAM --out-prefix $PREFIX --refgene $BED\n",
      "'''"
     ],
     "language": "python",
     "metadata": {},
     "outputs": [],
     "prompt_number": 98
    },
    {
     "cell_type": "code",
     "collapsed": false,
     "input": [
      "bash_out = os.path.join(local_code, 'scripts', 'rseqc.sh')\n",
      "with open(bash_out, 'w') as OUT:\n",
      "    OUT.write(rseqc_bash)\n"
     ],
     "language": "python",
     "metadata": {},
     "outputs": [],
     "prompt_number": 99
    },
    {
     "cell_type": "code",
     "collapsed": false,
     "input": [
      "tscc_bed_dir = os.path.join(tscc_reference, 'beds')\n",
      "bed_dir = os.path.join(reference, 'beds')"
     ],
     "language": "python",
     "metadata": {},
     "outputs": [],
     "prompt_number": 52
    },
    {
     "cell_type": "code",
     "collapsed": false,
     "input": [
      "gene_beds = !ls $bed_dir/*.bed\n",
      "gene_beds = [local_to_tscc(gene_bed)\n",
      "             for gene_bed in gene_beds]\n",
      "main_bed = os.path.join(tscc_reference, 'GRCh37_ERCC_GFP_RNASpikes.bed')"
     ],
     "language": "python",
     "metadata": {},
     "outputs": [],
     "prompt_number": 57
    },
    {
     "cell_type": "code",
     "collapsed": false,
     "input": [
      "\" \".join(gene_beds)"
     ],
     "language": "python",
     "metadata": {},
     "outputs": [
      {
       "metadata": {},
       "output_type": "pyout",
       "prompt_number": 82,
       "text": [
        "'/projects/ps-jcvi/projects/Lasken_Single_Cell/data/reference/beds/ACTB.bed /projects/ps-jcvi/projects/Lasken_Single_Cell/data/reference/beds/B2M.bed /projects/ps-jcvi/projects/Lasken_Single_Cell/data/reference/beds/combined.bed /projects/ps-jcvi/projects/Lasken_Single_Cell/data/reference/beds/ELAVL4.bed /projects/ps-jcvi/projects/Lasken_Single_Cell/data/reference/beds/GAPDH.bed /projects/ps-jcvi/projects/Lasken_Single_Cell/data/reference/beds/GUSB.bed /projects/ps-jcvi/projects/Lasken_Single_Cell/data/reference/beds/MAP2.bed /projects/ps-jcvi/projects/Lasken_Single_Cell/data/reference/beds/PPIA.bed /projects/ps-jcvi/projects/Lasken_Single_Cell/data/reference/beds/RBFOX3.bed /projects/ps-jcvi/projects/Lasken_Single_Cell/data/reference/beds/TBP.bed'"
       ]
      }
     ],
     "prompt_number": 82
    },
    {
     "cell_type": "code",
     "collapsed": false,
     "input": [
      "rseq_path = local_to_tscc(bash_out)"
     ],
     "language": "python",
     "metadata": {},
     "outputs": [],
     "prompt_number": 68
    },
    {
     "cell_type": "code",
     "collapsed": false,
     "input": [
      "def rseqc_command(sample_name, sample_bam, out_folder=None):\n",
      "    if not out_folder:\n",
      "        out_folder = os.path.join(tscc_out_dir, sample_name)\n",
      "    gene_beds_str = \" \".join(gene_beds)\n",
      "    commands = []\n",
      "    commands.append(\"mkdir %s\" % out_folder)\n",
      "    commands.append(\"sh %s %s %s %s %s \" % (rseq_path, sample_bam, out_folder, \n",
      "                                   main_bed, gene_beds_str))\n",
      "    return \"\\n\".join(commands)"
     ],
     "language": "python",
     "metadata": {},
     "outputs": [],
     "prompt_number": 94
    },
    {
     "cell_type": "code",
     "collapsed": false,
     "input": [
      "def create_qsub_file(command, outFile, jobID=None, qSubF=None, queue=\"hotel\", cores=\"1\", hours=\"24\"):\n",
      "    if not jobID:\n",
      "        jobID = os.path.basename(outFile)\n",
      "    if not qSubF:\n",
      "        qSubF = os.path.basename(outFile)+\".oe\"\n",
      "    \n",
      "    out = open(outFile, 'w')\n",
      "    out.write(\"#!/bin/bash\\n\")\n",
      "    out.write(\"#PBS -N %s\\n\" % jobID)\n",
      "    out.write(\"#PBS -q %s\\n\" % queue)\n",
      "    out.write(\"#PBS -o %s\\n\" % qSubF)\n",
      "    out.write(\"#PBS -j oe\\n\")\n",
      "    out.write(\"#PBS -M kunalbhutani@gmail.com\\n\")\n",
      "    out.write(\"#PBS -l walltime=%s:00:00\\n\" % hours)\n",
      "    out.write(\"#PBS -l nodes=1:ppn=%s\\n\" % cores)\n",
      "    out.write(\"#PBS -A schork-group\\n\")\n",
      "    #out.write(\"#PBS -A janssen-group\\n\")\n",
      "    out.write(\"#PBS -m abe\\n\")\n",
      "    out.write(\"\\n\")\n",
      "    out.write(\"echo \\\"<startTime>\\\"`date`\\\"</startTime>\\\"\\n\")\n",
      "    out.write(\"echo \\\"<output>\\\"\\n\")\n",
      "    out.write(\"%s\\n\" % command)\n",
      "    out.write(\"echo \\\"</output>\\\"\\n\")\n",
      "    out.write(\"echo \\\"<exitStatus>\\\"$?\\\"</exitStatus>\\\"\\n\")\n",
      "    out.write(\"echo \\\"<stopTime>\\\"`date`\\\"</stopTime>\\\"\\n\")\n",
      "    out.write(\"qstat -f $PBS_JOBID | grep Job\\n\")\n",
      "    out.write(\"qstat -f $PBS_JOBID | grep Resource\\n\")\n",
      "    out.close()\n"
     ],
     "language": "python",
     "metadata": {},
     "outputs": [],
     "prompt_number": 106
    },
    {
     "cell_type": "code",
     "collapsed": false,
     "input": [
      "def create_sample_qsubs(sample):\n",
      "    sample_name, sample_bam = sample\n",
      "    command = rseqc_command(sample_name, sample_bam)\n",
      "    out_qsub = os.path.join(out_dir, sample_name+\".qsub\")\n",
      "    create_qsub_file(command, out_qsub)"
     ],
     "language": "python",
     "metadata": {},
     "outputs": [],
     "prompt_number": 107
    },
    {
     "cell_type": "code",
     "collapsed": false,
     "input": [
      "def gene_body_coverage(samples, out_dir):\n",
      "    commands = []\n",
      "    python = \"/opt/python/bin/python2.7\"\n",
      "    rseqcdir = \"/home/kbhutani/tools/rna_seq/RSeQC-2.4/build/scripts-2.7\"\n",
      "    script = os.path.join(rseqcdir, \")\n",
      "    sample_files = \", \".join([sample[1] for sample in samples])\n",
      "    for gene_bed in gene_beds:\n",
      "        gene = os.path.basename(gene_bed).split('.')[0]\n",
      "        out_prefix = os.path.join(out_dir, \"rseqc-\"+gene)\n",
      "        commands.append(\"%s %s -i %s -refgene %s --out-prefix %s\" % \n",
      "                        (python, ))"
     ],
     "language": "python",
     "metadata": {},
     "outputs": []
    },
    {
     "cell_type": "heading",
     "level": 3,
     "metadata": {},
     "source": [
      "Initial Run"
     ]
    },
    {
     "cell_type": "code",
     "collapsed": false,
     "input": [
      "sample_bams = !ls $local_data/initial_run/rsem_bams/*.genome.sorted.bam\n",
      "single_cell_rna = [(os.path.basename(sample_bam).split('.')[0],\n",
      "                    local_to_tscc(sample_bam))\n",
      "                   for sample_bam in sample_bams\n",
      "                   if sample_bam.split('-')[1][0] == '1']\n",
      "bulk_cell_rna = [(os.path.basename(sample_bam).split('.')[0], \n",
      "                  local_to_tscc(sample_bam))\n",
      "                   for sample_bam in sample_bams\n",
      "                   if sample_bam.split('-')[1][0] != '1']"
     ],
     "language": "python",
     "metadata": {},
     "outputs": []
    },
    {
     "cell_type": "code",
     "collapsed": false,
     "input": [
      "for sample in single_cell_rna:\n",
      "    create_sample_qsubs(sample)"
     ],
     "language": "python",
     "metadata": {},
     "outputs": [],
     "prompt_number": 108
    },
    {
     "cell_type": "code",
     "collapsed": false,
     "input": [
      "out_dir = os.path.join(local_data, 'initial_run', 'qc', 'by_sample_bulk')\n",
      "tscc_out_dir = local_to_tscc(out_dir)\n",
      "!mkdir $out_dir\n",
      "for sample in bulk_cell_rna:\n",
      "    create_sample_qsubs(sample)"
     ],
     "language": "python",
     "metadata": {},
     "outputs": [],
     "prompt_number": 109
    },
    {
     "cell_type": "heading",
     "level": 3,
     "metadata": {},
     "source": [
      "Nov 24 Run"
     ]
    },
    {
     "cell_type": "heading",
     "level": 3,
     "metadata": {},
     "source": [
      "Pratap Bams"
     ]
    },
    {
     "cell_type": "code",
     "collapsed": false,
     "input": [
      "sample_bams = !ls $local_data/nov_24_run/HBPC_RSEM_RNASeq_PV_12012014/BAM_files/genome/*.genome.sorted.bam\n",
      "single_cell_rna = [(os.path.basename(sample_bam).split('.')[0],\n",
      "                    local_to_tscc(sample_bam))\n",
      "                   for sample_bam in sample_bams]"
     ],
     "language": "python",
     "metadata": {},
     "outputs": [],
     "prompt_number": 113
    },
    {
     "cell_type": "code",
     "collapsed": false,
     "input": [
      "out_dir = os.path.join(local_data, 'nov_24_run', 'qc', 'pratap')\n",
      "tscc_out_dir = local_to_tscc(out_dir)\n",
      "!mkdir $out_dir\n",
      "for sample in single_cell_rna:\n",
      "    create_sample_qsubs(sample)"
     ],
     "language": "python",
     "metadata": {},
     "outputs": [],
     "prompt_number": 115
    },
    {
     "cell_type": "code",
     "collapsed": false,
     "input": [],
     "language": "python",
     "metadata": {},
     "outputs": []
    }
   ],
   "metadata": {}
  }
 ]
}