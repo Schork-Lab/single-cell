{
 "metadata": {
  "name": "",
  "signature": "sha256:6795c1a8382e6b12033d5954d0950edbbd8900f429608870e8c5737b25a71ea3"
 },
 "nbformat": 3,
 "nbformat_minor": 0,
 "worksheets": [
  {
   "cells": [
    {
     "cell_type": "code",
     "collapsed": false,
     "input": [
      "import sys\n",
      "sys.path.append('../../src/')"
     ],
     "language": "python",
     "metadata": {},
     "outputs": [],
     "prompt_number": 1
    },
    {
     "cell_type": "code",
     "collapsed": false,
     "input": [
      "from helpers import *"
     ],
     "language": "python",
     "metadata": {},
     "outputs": [],
     "prompt_number": 2
    },
    {
     "cell_type": "code",
     "collapsed": false,
     "input": [
      "import os"
     ],
     "language": "python",
     "metadata": {},
     "outputs": [],
     "prompt_number": 3
    },
    {
     "cell_type": "code",
     "collapsed": false,
     "input": [
      "reference = os.path.join(local_data, 'reference')\n",
      "tscc_reference = local_to_tscc(reference)\n",
      "tscc_bed_dir = os.path.join(tscc_reference, 'beds')\n",
      "bed_dir = os.path.join(reference, 'beds')"
     ],
     "language": "python",
     "metadata": {},
     "outputs": [],
     "prompt_number": 4
    },
    {
     "cell_type": "heading",
     "level": 3,
     "metadata": {},
     "source": [
      "Set up RSeqC Functions and parameters"
     ]
    },
    {
     "cell_type": "code",
     "collapsed": false,
     "input": [
      "python_bin = \"/opt/python/bin/python2.7\"\n",
      "gtf2bed = \"/home/kbhutani/libraries/bin/gtf2bed2.py\""
     ],
     "language": "python",
     "metadata": {},
     "outputs": [],
     "prompt_number": 5
    },
    {
     "cell_type": "code",
     "collapsed": false,
     "input": [
      "rseqc_bash = '''\n",
      "#!/bin/sh\n",
      "\n",
      "# BAM file that you want to do the analysis on\n",
      "BAM=$1\n",
      "\n",
      "# Output directory where you want all the results to go\n",
      "# Files will be prepended with \"$OUT_DIR/rseqc\"\n",
      "OUT_DIR=$2\n",
      "\n",
      "# BED files of which you want to see the gene body coverage\n",
      "BED=$3\n",
      "\n",
      "GENE_BEDS=${@: 4}\n",
      "\n",
      "# Make plots via PREFIX\n",
      "PREFIX=$OUT_DIR/rseqc\n",
      "RSeQCDIR=/home/kbhutani/tools/rna_seq/RSeQC-2.4/build/scripts-2.7\n",
      "PYTHON=/opt/python/bin/python2.7\n",
      "\n",
      "# Extract only mapped reads, because of interference with RSeqC\n",
      "NEWBAM=${BAM##*/}\n",
      "NEWBAM=${NEWBAM%.bam}\n",
      "NEWBAM=\"$OUT_DIR/$NEWBAM.mapped.bam\"\n",
      "samtools view -h -F 4 $BAM | awk '{if($3 !~ \"ERCC\"){print $0}}' | samtools view -Sb - > $NEWBAM\n",
      "samtools index $NEWBAM\n",
      "BAM=$NEWBAM\n",
      "\n",
      "# Added for this use case because the bed derived from the gtf that was used to align the reads is \n",
      "# not working correctly.\n",
      "BED='/projects/ps-jcvi/tools/references/rnaseq/hg19_RefSeq.bed'\n",
      "CONTROL='/projects/ps-jcvi/projects/Lasken_Single_Cell/data/nov_24_run/HBPC_RSEM_RNASeq_PV_12012014/BAM_files/genome/3DHCN100pg111314.genome.sorted.bam'\n",
      "\n",
      "module load scipy/2.7\n",
      "module load R\n",
      "echo 'executing: clipping_profile.py' ; $PYTHON $RSeQCDIR/clipping_profile.py --input-file $BAM --out-prefix $PREFIX\n",
      "\n",
      "for gene_bed in $GENE_BEDS\n",
      "    do \n",
      "        echo \"executing: geneBody_coverage.py for $gene_bed\"\n",
      "        s=${gene_bed##*/}\n",
      "        out_prefix=\"$PREFIX-${s%.bed}\"\n",
      "        echo $out_prefix\n",
      "        $PYTHON $RSeQCDIR/geneBody_coverage.py -i $BAM,$CONTROL --refgene $gene_bed --out-prefix $out_prefix\n",
      "    done\n",
      "echo 'executing: infer_experiment.py' ; $PYTHON $RSeQCDIR/infer_experiment.py --input-file $BAM --refgene $BED >$PREFIX.infer_experiment.txt\n",
      "echo 'executing: inner_distance.py' ; $PYTHON $RSeQCDIR/inner_distance.py --input-file $BAM --refgene $BED --out-prefix $PREFIX\n",
      "echo 'executing: junction_annotation.py' ; $PYTHON $RSeQCDIR/junction_annotation.py --input-file $BAM --refgene $BED --out-prefix $PREFIX >$PREFIX.junction_annotation.txt\n",
      "echo 'executing: junction_saturation.py' ; $PYTHON $RSeQCDIR/junction_saturation.py --input-file $BAM --refgene $BED --out-prefix $PREFIX\n",
      "echo 'executing: read_distribution.py' ; $PYTHON $RSeQCDIR/read_distribution.py --input-file $BAM --refgene $BED > $PREFIX.read_distribution.txt\n",
      "echo 'executing: read_duplication.py' ; $PYTHON $RSeQCDIR/read_duplication.py --input-file $BAM --out-prefix $PREFIX\n",
      "echo 'executing: read_GC.py' ; $PYTHON $RSeQCDIR/read_GC.py --input-file $BAM --out-prefix $PREFIX\n",
      "echo 'executing: read_NVC.py' ; $PYTHON $RSeQCDIR/read_NVC.py --input-file $BAM --out-prefix $PREFIX\n",
      "echo 'executing: read_quality.py' ; $PYTHON $RSeQCDIR/read_quality.py --input-file $BAM --out-prefix $PREFIX\n",
      "echo 'executing: RPKM_count.py' ; $PYTHON $RSeQCDIR/RPKM_count.py --input-file $BAM --out-prefix $PREFIX --refgene $BED\n",
      "echo 'executing: RPKM_saturation.py' ; $PYTHON $RSeQCDIR/RPKM_saturation.py --input-file $BAM --out-prefix $PREFIX --refgene $BED\n",
      "'''"
     ],
     "language": "python",
     "metadata": {},
     "outputs": [],
     "prompt_number": 96
    },
    {
     "cell_type": "code",
     "collapsed": false,
     "input": [
      "bash_out = os.path.join(local_code, 'scripts', 'rseqc.sh')\n",
      "with open(bash_out, 'w') as OUT:\n",
      "    OUT.write(rseqc_bash)\n"
     ],
     "language": "python",
     "metadata": {},
     "outputs": [],
     "prompt_number": 97
    },
    {
     "cell_type": "code",
     "collapsed": false,
     "input": [
      "tscc_bed_dir = os.path.join(tscc_reference, 'beds')\n",
      "bed_dir = os.path.join(reference, 'beds')"
     ],
     "language": "python",
     "metadata": {},
     "outputs": [],
     "prompt_number": 71
    },
    {
     "cell_type": "code",
     "collapsed": false,
     "input": [
      "gene_beds = !ls $bed_dir/*.bed\n",
      "gene_beds = [local_to_tscc(gene_bed)\n",
      "             for gene_bed in gene_beds]\n",
      "main_bed = os.path.join(tscc_reference, 'GRCh37_ERCC_GFP_RNASpikes.bed')"
     ],
     "language": "python",
     "metadata": {},
     "outputs": [],
     "prompt_number": 72
    },
    {
     "cell_type": "code",
     "collapsed": false,
     "input": [
      "rseq_path = local_to_tscc(bash_out)"
     ],
     "language": "python",
     "metadata": {},
     "outputs": [],
     "prompt_number": 73
    },
    {
     "cell_type": "code",
     "collapsed": false,
     "input": [
      "def rseqc_command(sample_name, sample_bam, out_folder):\n",
      "    out_folder = os.path.join(out_folder, sample_name)\n",
      "    gene_beds_str = \" \".join(gene_beds)\n",
      "    commands = []\n",
      "    commands.append(\"mkdir %s\" % out_folder)\n",
      "    commands.append(\"sh %s %s %s %s %s \" % (rseq_path, sample_bam, out_folder, \n",
      "                                            main_bed, gene_beds_str))\n",
      "    return \"\\n\".join(commands)"
     ],
     "language": "python",
     "metadata": {},
     "outputs": [],
     "prompt_number": 74
    },
    {
     "cell_type": "code",
     "collapsed": false,
     "input": [
      "def create_qsub_file(command, outFile, jobID=None, qSubF=None, queue=\"hotel\", cores=\"1\", hours=\"24\"):\n",
      "    if not jobID:\n",
      "        jobID = os.path.basename(outFile)\n",
      "    if not qSubF:\n",
      "        qSubF = os.path.basename(outFile)+\".oe\"\n",
      "    \n",
      "    out = open(outFile, 'w')\n",
      "    out.write(\"#!/bin/bash\\n\")\n",
      "    out.write(\"#PBS -N %s\\n\" % jobID)\n",
      "    out.write(\"#PBS -q %s\\n\" % queue)\n",
      "    out.write(\"#PBS -o %s\\n\" % qSubF)\n",
      "    out.write(\"#PBS -j oe\\n\")\n",
      "    out.write(\"#PBS -M kunalbhutani@gmail.com\\n\")\n",
      "    out.write(\"#PBS -l walltime=%s:00:00\\n\" % hours)\n",
      "    out.write(\"#PBS -l nodes=1:ppn=%s\\n\" % cores)\n",
      "    out.write(\"#PBS -A schork-group\\n\")\n",
      "    #out.write(\"#PBS -A janssen-group\\n\")\n",
      "    out.write(\"#PBS -m abe\\n\")\n",
      "    out.write(\"\\n\")\n",
      "    out.write(\"echo \\\"<startTime>\\\"`date`\\\"</startTime>\\\"\\n\")\n",
      "    out.write(\"echo \\\"<output>\\\"\\n\")\n",
      "    out.write(\"%s\\n\" % command)\n",
      "    out.write(\"echo \\\"</output>\\\"\\n\")\n",
      "    out.write(\"echo \\\"<exitStatus>\\\"$?\\\"</exitStatus>\\\"\\n\")\n",
      "    out.write(\"echo \\\"<stopTime>\\\"`date`\\\"</stopTime>\\\"\\n\")\n",
      "    out.write(\"qstat -f $PBS_JOBID | grep Job\\n\")\n",
      "    out.write(\"qstat -f $PBS_JOBID | grep Resource\\n\")\n",
      "    out.close()\n"
     ],
     "language": "python",
     "metadata": {},
     "outputs": [],
     "prompt_number": 75
    },
    {
     "cell_type": "code",
     "collapsed": false,
     "input": [
      "def create_sample_qsubs(sample, local_dir, tscc_dir):\n",
      "    sample_name, sample_bam = sample\n",
      "    command = rseqc_command(sample_name, sample_bam, tscc_dir)\n",
      "    out_qsub = os.path.join(local_dir, sample_name+\".qsub\")\n",
      "    print out_qsub\n",
      "    create_qsub_file(command, out_qsub)"
     ],
     "language": "python",
     "metadata": {},
     "outputs": [],
     "prompt_number": 76
    },
    {
     "cell_type": "code",
     "collapsed": false,
     "input": [
      "gene_beds"
     ],
     "language": "python",
     "metadata": {},
     "outputs": [
      {
       "metadata": {},
       "output_type": "pyout",
       "prompt_number": 98,
       "text": [
        "['/projects/ps-jcvi/projects/Lasken_Single_Cell/data/reference/beds/ACTB.bed',\n",
        " '/projects/ps-jcvi/projects/Lasken_Single_Cell/data/reference/beds/B2M.bed',\n",
        " '/projects/ps-jcvi/projects/Lasken_Single_Cell/data/reference/beds/combined.bed',\n",
        " '/projects/ps-jcvi/projects/Lasken_Single_Cell/data/reference/beds/ELAVL4.bed',\n",
        " '/projects/ps-jcvi/projects/Lasken_Single_Cell/data/reference/beds/GAPDH.bed',\n",
        " '/projects/ps-jcvi/projects/Lasken_Single_Cell/data/reference/beds/GUSB.bed',\n",
        " '/projects/ps-jcvi/projects/Lasken_Single_Cell/data/reference/beds/MAP2.bed',\n",
        " '/projects/ps-jcvi/projects/Lasken_Single_Cell/data/reference/beds/PPIA.bed',\n",
        " '/projects/ps-jcvi/projects/Lasken_Single_Cell/data/reference/beds/RBFOX3.bed',\n",
        " '/projects/ps-jcvi/projects/Lasken_Single_Cell/data/reference/beds/TBP.bed']"
       ]
      }
     ],
     "prompt_number": 98
    },
    {
     "cell_type": "code",
     "collapsed": false,
     "input": [
      "def gene_body_coverage(samples, out_dir):\n",
      "    commands = []\n",
      "    python = \"/opt/python/bin/python2.7\"\n",
      "    rseqcdir = \"/home/kbhutani/tools/rna_seq/RSeQC-2.4/build/scripts-2.7\"\n",
      "    script = os.path.join(rseqcdir, \"geneBody_coverage.py\")\n",
      "    sample_files = \",\".join([sample[1] for sample in samples])\n",
      "    commands.append('module load scipy/2.7')\n",
      "    commands.append('module load R')\n",
      "    #gene_beds = ['/projects/ps-jcvi/projects/Lasken_Single_Cell/data/reference/beds/combined.bed']\n",
      "    for gene_bed in gene_beds:\n",
      "        gene = os.path.basename(gene_bed).split('.')[0]\n",
      "        out_prefix = os.path.join(out_dir, \"rseqc-\"+gene)\n",
      "        commands.append(\"%s %s --input %s --refgene %s --out-prefix %s\" % \n",
      "                        (python, script, sample_files, gene_bed, out_prefix))\n",
      "    return \"\\n\".join(commands)"
     ],
     "language": "python",
     "metadata": {},
     "outputs": [],
     "prompt_number": 99
    },
    {
     "cell_type": "code",
     "collapsed": false,
     "input": [
      "def create_qsubs(samples, out_dir):\n",
      "    tscc_dir = local_to_tscc(out_dir)\n",
      "    for sample in samples:\n",
      "        create_sample_qsubs(sample, out_dir, tscc_dir)\n",
      "    genebody_cmds = gene_body_coverage(samples, tscc_dir)\n",
      "    out_qsub = os.path.join(out_dir, 'combined.qsub')\n",
      "    create_qsub_file(genebody_cmds, out_qsub)"
     ],
     "language": "python",
     "metadata": {},
     "outputs": [],
     "prompt_number": 79
    },
    {
     "cell_type": "heading",
     "level": 3,
     "metadata": {},
     "source": [
      "Initial Run"
     ]
    },
    {
     "cell_type": "code",
     "collapsed": false,
     "input": [
      "sample_bams = !ls $local_data/initial_run/rsem_bams/*.genome.sorted.bam\n",
      "single_cell_rna = [(os.path.basename(sample_bam).split('.')[0],\n",
      "                    local_to_tscc(sample_bam))\n",
      "                   for sample_bam in sample_bams\n",
      "                   if sample_bam.split('-')[1][0] == '1']\n",
      "bulk_cell_rna = [(os.path.basename(sample_bam).split('.')[0], \n",
      "                  local_to_tscc(sample_bam))\n",
      "                   for sample_bam in sample_bams\n",
      "                   if sample_bam.split('-')[1][0] != '1']"
     ],
     "language": "python",
     "metadata": {},
     "outputs": [],
     "prompt_number": 80
    },
    {
     "cell_type": "code",
     "collapsed": false,
     "input": [
      "out_dir = os.path.join(local_data, 'initial_run', 'qc', 'by_sample')\n",
      "create_qsubs(single_cell_rna, out_dir)"
     ],
     "language": "python",
     "metadata": {},
     "outputs": [
      {
       "output_type": "stream",
       "stream": "stdout",
       "text": [
        "/home/kunal/tscc_projects/lasken/data/initial_run/qc/by_sample/A1-1_S1.qsub\n",
        "/home/kunal/tscc_projects/lasken/data/initial_run/qc/by_sample/A3-1_S16.qsub"
       ]
      },
      {
       "output_type": "stream",
       "stream": "stdout",
       "text": [
        "\n",
        "/home/kunal/tscc_projects/lasken/data/initial_run/qc/by_sample/B1-1_S2.qsub"
       ]
      },
      {
       "output_type": "stream",
       "stream": "stdout",
       "text": [
        "\n",
        "/home/kunal/tscc_projects/lasken/data/initial_run/qc/by_sample/B2-1_S9.qsub"
       ]
      },
      {
       "output_type": "stream",
       "stream": "stdout",
       "text": [
        "\n",
        "/home/kunal/tscc_projects/lasken/data/initial_run/qc/by_sample/B3-1_S17.qsub"
       ]
      },
      {
       "output_type": "stream",
       "stream": "stdout",
       "text": [
        "\n",
        "/home/kunal/tscc_projects/lasken/data/initial_run/qc/by_sample/C1-1_S3.qsub"
       ]
      },
      {
       "output_type": "stream",
       "stream": "stdout",
       "text": [
        "\n",
        "/home/kunal/tscc_projects/lasken/data/initial_run/qc/by_sample/C2-1_S10.qsub"
       ]
      },
      {
       "output_type": "stream",
       "stream": "stdout",
       "text": [
        "\n",
        "/home/kunal/tscc_projects/lasken/data/initial_run/qc/by_sample/C3-1_S18.qsub"
       ]
      },
      {
       "output_type": "stream",
       "stream": "stdout",
       "text": [
        "\n",
        "/home/kunal/tscc_projects/lasken/data/initial_run/qc/by_sample/D1-1_S4.qsub"
       ]
      },
      {
       "output_type": "stream",
       "stream": "stdout",
       "text": [
        "\n",
        "/home/kunal/tscc_projects/lasken/data/initial_run/qc/by_sample/D2-1_S11.qsub"
       ]
      },
      {
       "output_type": "stream",
       "stream": "stdout",
       "text": [
        "\n",
        "/home/kunal/tscc_projects/lasken/data/initial_run/qc/by_sample/D3-1_S19.qsub"
       ]
      },
      {
       "output_type": "stream",
       "stream": "stdout",
       "text": [
        "\n",
        "/home/kunal/tscc_projects/lasken/data/initial_run/qc/by_sample/E1-1_S5.qsub"
       ]
      },
      {
       "output_type": "stream",
       "stream": "stdout",
       "text": [
        "\n",
        "/home/kunal/tscc_projects/lasken/data/initial_run/qc/by_sample/E2-1_S12.qsub"
       ]
      },
      {
       "output_type": "stream",
       "stream": "stdout",
       "text": [
        "\n",
        "/home/kunal/tscc_projects/lasken/data/initial_run/qc/by_sample/E3-1_S20.qsub"
       ]
      },
      {
       "output_type": "stream",
       "stream": "stdout",
       "text": [
        "\n",
        "/home/kunal/tscc_projects/lasken/data/initial_run/qc/by_sample/F1-1_S6.qsub"
       ]
      },
      {
       "output_type": "stream",
       "stream": "stdout",
       "text": [
        "\n",
        "/home/kunal/tscc_projects/lasken/data/initial_run/qc/by_sample/F2-1_S13.qsub"
       ]
      },
      {
       "output_type": "stream",
       "stream": "stdout",
       "text": [
        "\n",
        "/home/kunal/tscc_projects/lasken/data/initial_run/qc/by_sample/F3-1_S21.qsub"
       ]
      },
      {
       "output_type": "stream",
       "stream": "stdout",
       "text": [
        "\n",
        "/home/kunal/tscc_projects/lasken/data/initial_run/qc/by_sample/G1-1_S7.qsub"
       ]
      },
      {
       "output_type": "stream",
       "stream": "stdout",
       "text": [
        "\n",
        "/home/kunal/tscc_projects/lasken/data/initial_run/qc/by_sample/G2-1_S14.qsub"
       ]
      },
      {
       "output_type": "stream",
       "stream": "stdout",
       "text": [
        "\n",
        "/home/kunal/tscc_projects/lasken/data/initial_run/qc/by_sample/G3-1_S22.qsub"
       ]
      },
      {
       "output_type": "stream",
       "stream": "stdout",
       "text": [
        "\n",
        "/home/kunal/tscc_projects/lasken/data/initial_run/qc/by_sample/H1-1_S8.qsub"
       ]
      },
      {
       "output_type": "stream",
       "stream": "stdout",
       "text": [
        "\n",
        "/home/kunal/tscc_projects/lasken/data/initial_run/qc/by_sample/H2-1_S15.qsub"
       ]
      },
      {
       "output_type": "stream",
       "stream": "stdout",
       "text": [
        "\n"
       ]
      }
     ],
     "prompt_number": 81
    },
    {
     "cell_type": "code",
     "collapsed": false,
     "input": [
      "out_dir = os.path.join(local_data, 'initial_run', 'qc', 'by_sample_bulk')\n",
      "create_qsubs(bulk_cell_rna, out_dir)"
     ],
     "language": "python",
     "metadata": {},
     "outputs": [
      {
       "output_type": "stream",
       "stream": "stdout",
       "text": [
        "/home/kunal/tscc_projects/lasken/data/initial_run/qc/by_sample_bulk/A4-8_S23.qsub\n",
        "/home/kunal/tscc_projects/lasken/data/initial_run/qc/by_sample_bulk/A5-48_S31.qsub"
       ]
      },
      {
       "output_type": "stream",
       "stream": "stdout",
       "text": [
        "\n",
        "/home/kunal/tscc_projects/lasken/data/initial_run/qc/by_sample_bulk/A6-RNA-100PG_S35.qsub"
       ]
      },
      {
       "output_type": "stream",
       "stream": "stdout",
       "text": [
        "\n",
        "/home/kunal/tscc_projects/lasken/data/initial_run/qc/by_sample_bulk/B4-8_S24.qsub"
       ]
      },
      {
       "output_type": "stream",
       "stream": "stdout",
       "text": [
        "\n",
        "/home/kunal/tscc_projects/lasken/data/initial_run/qc/by_sample_bulk/B5-48_S32.qsub"
       ]
      },
      {
       "output_type": "stream",
       "stream": "stdout",
       "text": [
        "\n",
        "/home/kunal/tscc_projects/lasken/data/initial_run/qc/by_sample_bulk/B6-RNA-10PG_S36.qsub"
       ]
      },
      {
       "output_type": "stream",
       "stream": "stdout",
       "text": [
        "\n",
        "/home/kunal/tscc_projects/lasken/data/initial_run/qc/by_sample_bulk/C4-8_S25.qsub"
       ]
      },
      {
       "output_type": "stream",
       "stream": "stdout",
       "text": [
        "\n",
        "/home/kunal/tscc_projects/lasken/data/initial_run/qc/by_sample_bulk/C5-96_S33.qsub"
       ]
      },
      {
       "output_type": "stream",
       "stream": "stdout",
       "text": [
        "\n",
        "/home/kunal/tscc_projects/lasken/data/initial_run/qc/by_sample_bulk/C6-RNA-1PG_S37.qsub"
       ]
      },
      {
       "output_type": "stream",
       "stream": "stdout",
       "text": [
        "\n",
        "/home/kunal/tscc_projects/lasken/data/initial_run/qc/by_sample_bulk/D4-8_S26.qsub"
       ]
      },
      {
       "output_type": "stream",
       "stream": "stdout",
       "text": [
        "\n",
        "/home/kunal/tscc_projects/lasken/data/initial_run/qc/by_sample_bulk/D5-96_S34.qsub"
       ]
      },
      {
       "output_type": "stream",
       "stream": "stdout",
       "text": [
        "\n",
        "/home/kunal/tscc_projects/lasken/data/initial_run/qc/by_sample_bulk/E4-24_S27.qsub"
       ]
      },
      {
       "output_type": "stream",
       "stream": "stdout",
       "text": [
        "\n",
        "/home/kunal/tscc_projects/lasken/data/initial_run/qc/by_sample_bulk/E6-RNA-100PG_S38.qsub"
       ]
      },
      {
       "output_type": "stream",
       "stream": "stdout",
       "text": [
        "\n",
        "/home/kunal/tscc_projects/lasken/data/initial_run/qc/by_sample_bulk/F4-24_S28.qsub"
       ]
      },
      {
       "output_type": "stream",
       "stream": "stdout",
       "text": [
        "\n",
        "/home/kunal/tscc_projects/lasken/data/initial_run/qc/by_sample_bulk/F6-RNA-10PG_S39.qsub"
       ]
      },
      {
       "output_type": "stream",
       "stream": "stdout",
       "text": [
        "\n",
        "/home/kunal/tscc_projects/lasken/data/initial_run/qc/by_sample_bulk/G4-24_S29.qsub"
       ]
      },
      {
       "output_type": "stream",
       "stream": "stdout",
       "text": [
        "\n",
        "/home/kunal/tscc_projects/lasken/data/initial_run/qc/by_sample_bulk/G6-RNA-1PG_S40.qsub"
       ]
      },
      {
       "output_type": "stream",
       "stream": "stdout",
       "text": [
        "\n",
        "/home/kunal/tscc_projects/lasken/data/initial_run/qc/by_sample_bulk/H4-24_S30.qsub"
       ]
      },
      {
       "output_type": "stream",
       "stream": "stdout",
       "text": [
        "\n"
       ]
      }
     ],
     "prompt_number": 82
    },
    {
     "cell_type": "heading",
     "level": 3,
     "metadata": {},
     "source": [
      "Nov 24 Run"
     ]
    },
    {
     "cell_type": "heading",
     "level": 4,
     "metadata": {},
     "source": [
      "Pratap Bams"
     ]
    },
    {
     "cell_type": "code",
     "collapsed": false,
     "input": [
      "sample_bams = !ls $local_data/nov_24_run/HBPC_RSEM_RNASeq_PV_12012014/BAM_files/genome/*.genome.sorted.bam\n",
      "pratap_nov_24_cell_rna = [(os.path.basename(sample_bam).split('.')[0],\n",
      "                            local_to_tscc(sample_bam))\n",
      "                           for sample_bam in sample_bams]"
     ],
     "language": "python",
     "metadata": {},
     "outputs": [],
     "prompt_number": 92
    },
    {
     "cell_type": "code",
     "collapsed": false,
     "input": [
      "out_dir = os.path.join(local_data, 'nov_24_run', 'qc', 'pratap')\n",
      "create_qsubs(pratap_nov_24_cell_rna, out_dir)"
     ],
     "language": "python",
     "metadata": {},
     "outputs": [
      {
       "output_type": "stream",
       "stream": "stdout",
       "text": [
        "/home/kunal/tscc_projects/lasken/data/nov_24_run/qc/pratap/1A1HCNPD1102414.qsub\n",
        "/home/kunal/tscc_projects/lasken/data/nov_24_run/qc/pratap/1E1HCNP111314.qsub"
       ]
      },
      {
       "output_type": "stream",
       "stream": "stdout",
       "text": [
        "\n",
        "/home/kunal/tscc_projects/lasken/data/nov_24_run/qc/pratap/1E1HCNPD1102414.qsub"
       ]
      },
      {
       "output_type": "stream",
       "stream": "stdout",
       "text": [
        "\n",
        "/home/kunal/tscc_projects/lasken/data/nov_24_run/qc/pratap/1F1HCNP111314.qsub"
       ]
      },
      {
       "output_type": "stream",
       "stream": "stdout",
       "text": [
        "\n",
        "/home/kunal/tscc_projects/lasken/data/nov_24_run/qc/pratap/1G1HCNP111314.qsub"
       ]
      },
      {
       "output_type": "stream",
       "stream": "stdout",
       "text": [
        "\n",
        "/home/kunal/tscc_projects/lasken/data/nov_24_run/qc/pratap/1H1HCNP111314.qsub"
       ]
      },
      {
       "output_type": "stream",
       "stream": "stdout",
       "text": [
        "\n",
        "/home/kunal/tscc_projects/lasken/data/nov_24_run/qc/pratap/2A1HCNPN111314.qsub"
       ]
      },
      {
       "output_type": "stream",
       "stream": "stdout",
       "text": [
        "\n",
        "/home/kunal/tscc_projects/lasken/data/nov_24_run/qc/pratap/2B1HCNPN111314.qsub"
       ]
      },
      {
       "output_type": "stream",
       "stream": "stdout",
       "text": [
        "\n",
        "/home/kunal/tscc_projects/lasken/data/nov_24_run/qc/pratap/2C1HCNPD2102414.qsub"
       ]
      },
      {
       "output_type": "stream",
       "stream": "stdout",
       "text": [
        "\n",
        "/home/kunal/tscc_projects/lasken/data/nov_24_run/qc/pratap/2C1HCNPN111314.qsub"
       ]
      },
      {
       "output_type": "stream",
       "stream": "stdout",
       "text": [
        "\n",
        "/home/kunal/tscc_projects/lasken/data/nov_24_run/qc/pratap/2D1HCNPN111314.qsub"
       ]
      },
      {
       "output_type": "stream",
       "stream": "stdout",
       "text": [
        "\n",
        "/home/kunal/tscc_projects/lasken/data/nov_24_run/qc/pratap/2G1HCNPN111314.qsub"
       ]
      },
      {
       "output_type": "stream",
       "stream": "stdout",
       "text": [
        "\n",
        "/home/kunal/tscc_projects/lasken/data/nov_24_run/qc/pratap/2H1HCNPN111314.qsub"
       ]
      },
      {
       "output_type": "stream",
       "stream": "stdout",
       "text": [
        "\n",
        "/home/kunal/tscc_projects/lasken/data/nov_24_run/qc/pratap/3AHCN100pg111314.qsub"
       ]
      },
      {
       "output_type": "stream",
       "stream": "stdout",
       "text": [
        "\n",
        "/home/kunal/tscc_projects/lasken/data/nov_24_run/qc/pratap/3B1HCNPD3102414.qsub"
       ]
      },
      {
       "output_type": "stream",
       "stream": "stdout",
       "text": [
        "\n",
        "/home/kunal/tscc_projects/lasken/data/nov_24_run/qc/pratap/3BHCN10pg111314.qsub"
       ]
      },
      {
       "output_type": "stream",
       "stream": "stdout",
       "text": [
        "\n",
        "/home/kunal/tscc_projects/lasken/data/nov_24_run/qc/pratap/3DHCN100pg111314.qsub"
       ]
      },
      {
       "output_type": "stream",
       "stream": "stdout",
       "text": [
        "\n",
        "/home/kunal/tscc_projects/lasken/data/nov_24_run/qc/pratap/3EHCN10pg111314.qsub"
       ]
      },
      {
       "output_type": "stream",
       "stream": "stdout",
       "text": [
        "\n",
        "/home/kunal/tscc_projects/lasken/data/nov_24_run/qc/pratap/3F1HCNPD3102414.qsub"
       ]
      },
      {
       "output_type": "stream",
       "stream": "stdout",
       "text": [
        "\n",
        "/home/kunal/tscc_projects/lasken/data/nov_24_run/qc/pratap/7A8HCNPD2102414.qsub"
       ]
      },
      {
       "output_type": "stream",
       "stream": "stdout",
       "text": [
        "\n",
        "/home/kunal/tscc_projects/lasken/data/nov_24_run/qc/pratap/7D24HCNPD2102414.qsub"
       ]
      },
      {
       "output_type": "stream",
       "stream": "stdout",
       "text": [
        "\n",
        "/home/kunal/tscc_projects/lasken/data/nov_24_run/qc/pratap/7E48HCNPD2102414.qsub"
       ]
      },
      {
       "output_type": "stream",
       "stream": "stdout",
       "text": [
        "\n",
        "/home/kunal/tscc_projects/lasken/data/nov_24_run/qc/pratap/7F96HCNPD2102414.qsub"
       ]
      },
      {
       "output_type": "stream",
       "stream": "stdout",
       "text": [
        "\n"
       ]
      }
     ],
     "prompt_number": 100
    },
    {
     "cell_type": "code",
     "collapsed": false,
     "input": [],
     "language": "python",
     "metadata": {},
     "outputs": []
    }
   ],
   "metadata": {}
  }
 ]
}