{
 "metadata": {
  "name": "",
  "signature": "sha256:a2835a3f2b832975db7b07856a7ef32f8a514b341a2db61deabc346d5cc80871"
 },
 "nbformat": 3,
 "nbformat_minor": 0,
 "worksheets": [
  {
   "cells": [
    {
     "cell_type": "code",
     "collapsed": false,
     "input": [
      "import sys\n",
      "sys.path.append('../../src/')\n",
      "import pandas as pd\n",
      "import seaborn as sns\n",
      "import os\n",
      "%pylab inline\n",
      "%load_ext autoreload\n",
      "%autoreload 2\n",
      "sns.set_context('paper')\n",
      "sns.set_style(\"white\")"
     ],
     "language": "python",
     "metadata": {},
     "outputs": [
      {
       "output_type": "stream",
       "stream": "stdout",
       "text": [
        "Populating the interactive namespace from numpy and matplotlib\n",
        "The autoreload extension is already loaded. To reload it, use:\n",
        "  %reload_ext autoreload\n"
       ]
      },
      {
       "output_type": "stream",
       "stream": "stderr",
       "text": [
        "WARNING: pylab import has clobbered these variables: ['sample']\n",
        "`%matplotlib` prevents importing * from pylab and numpy\n"
       ]
      }
     ],
     "prompt_number": 9
    },
    {
     "cell_type": "code",
     "collapsed": false,
     "input": [
      "from helpers import *\n",
      "import data"
     ],
     "language": "python",
     "metadata": {},
     "outputs": [],
     "prompt_number": 2
    },
    {
     "cell_type": "code",
     "collapsed": false,
     "input": [
      "tpm_df = data.load_tpms()\n",
      "tpm_df = data.filter_df(tpm_df, genes_only=True, expressed_in_multiple=True)"
     ],
     "language": "python",
     "metadata": {},
     "outputs": [],
     "prompt_number": 3
    },
    {
     "cell_type": "code",
     "collapsed": false,
     "input": [
      "control = '3DHCN100pg111314'\n",
      "control_name = get_sample_map()[control]\n",
      "low, mid, high = data.get_low_mid_high_genes(tpm_df[control_name])\n",
      "control_expressed = tpm_df[tpm_df[control_name] > 0][control_name]"
     ],
     "language": "python",
     "metadata": {},
     "outputs": [],
     "prompt_number": 25
    },
    {
     "cell_type": "code",
     "collapsed": false,
     "input": [
      "sample_number_expressed = {}\n",
      "for sample in tpm_df.columns:\n",
      "    sample_tpm = tpm_df[sample]\n",
      "    sample_expressed = sample_tpm[sample_tpm > 0]\n",
      "    sample_expressed_genes = set(sample_expressed.index)\n",
      "    low_intersection = len(sample_expressed_genes.intersection(low.index)) \n",
      "    mid_intersection = len(sample_expressed_genes.intersection(mid.index)) \n",
      "    high_intersection = len(sample_expressed_genes.intersection(high.index)) \n",
      "    novel_expressed = len(sample_expressed_genes.difference(control_expressed.index))\n",
      "    sample_number_expressed[sample] = (low_intersection, mid_intersection,\n",
      "                                       high_intersection, novel_expressed)\n",
      "    "
     ],
     "language": "python",
     "metadata": {},
     "outputs": [],
     "prompt_number": 26
    },
    {
     "cell_type": "code",
     "collapsed": false,
     "input": [
      "expressed_df = pd.DataFrame(sample_number_expressed).T\n",
      "expressed_df.columns = ['Low', 'Mid', 'High', 'Novel']"
     ],
     "language": "python",
     "metadata": {},
     "outputs": [],
     "prompt_number": 27
    },
    {
     "cell_type": "code",
     "collapsed": false,
     "input": [
      "percentage_df = expressed_df[['Low','Mid','High']].astype(float)/expressed_df[['Low','Mid','High']].ix[control_name]"
     ],
     "language": "python",
     "metadata": {},
     "outputs": [],
     "prompt_number": 28
    },
    {
     "cell_type": "code",
     "collapsed": false,
     "input": [
      "fig = plt.figure(figsize=(7,6))\n",
      "ax = fig.add_subplot(121)\n",
      "ax = percentage_df.ix[get_sorted_order()[::1]].plot(kind='barh', width=0.7, ax=ax)\n",
      "ax.grid(False, axis='y')\n",
      "ax.set_title('Fraction of Control Genes Expressed\\n', loc='left')\n",
      "ax.set_xlabel('Fraction of Genes Expressed')\n",
      "sns.despine()"
     ],
     "language": "python",
     "metadata": {},
     "outputs": [
      {
       "metadata": {},
       "output_type": "display_data",
       "png": "[encoded data removed]",
       "text": [
        "<matplotlib.figure.Figure at 0x7ffccde99b10>"
       ]
      }
     ],
     "prompt_number": 67
    },
    {
     "cell_type": "code",
     "collapsed": false,
     "input": [
      "ax = fig.add_subplot(122)\n",
      "ax = expressed_df.ix[get_sorted_order()[::1]].apply(lambda x: x.astype(float)/sum(x), axis=1).plot(kind='barh', ax=ax, width=0.85)\n",
      "ax.set_title('Composition of Genes Expressed \\nRelative to Expression in Control', loc='left')\n",
      "ax.set_yticklabels([])\n",
      "ax.set_xlim([0,1])\n",
      "ax.grid(False, axis='y')\n",
      "ax.set_xlabel('Fraction of Genes Expressed')\n",
      "sns.despine(ax=ax)"
     ],
     "language": "python",
     "metadata": {},
     "outputs": [],
     "prompt_number": 68
    },
    {
     "cell_type": "code",
     "collapsed": false,
     "input": [
      "figure_dir = '../../figures'\n",
      "#fig.tight_layout()\n",
      "fig.savefig(figure_dir+'/fig7.png', dpi=300, bbox_inches='tight')"
     ],
     "language": "python",
     "metadata": {},
     "outputs": [],
     "prompt_number": 70
    },
    {
     "cell_type": "code",
     "collapsed": false,
     "input": [],
     "language": "python",
     "metadata": {},
     "outputs": []
    }
   ],
   "metadata": {}
  }
 ]
}