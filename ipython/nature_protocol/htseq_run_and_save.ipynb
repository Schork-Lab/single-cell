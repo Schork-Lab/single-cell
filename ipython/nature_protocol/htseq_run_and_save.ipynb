{
 "metadata": {
  "name": "",
  "signature": "sha256:783cde6d497d7731948b19a5e44927be0253a2dca440fb72aeb7b2b09e172428"
 },
 "nbformat": 3,
 "nbformat_minor": 0,
 "worksheets": [
  {
   "cells": [
    {
     "cell_type": "code",
     "collapsed": false,
     "input": [
      "import sys\n",
      "sys.path.append('../../src/')\n",
      "import pandas as pd\n",
      "import seaborn as sns\n",
      "import os\n",
      "%pylab inline\n",
      "%load_ext autoreload\n",
      "%autoreload 2\n",
      "sns.set_context('paper')"
     ],
     "language": "python",
     "metadata": {},
     "outputs": [
      {
       "output_type": "stream",
       "stream": "stdout",
       "text": [
        "Populating the interactive namespace from numpy and matplotlib\n"
       ]
      }
     ],
     "prompt_number": 1
    },
    {
     "cell_type": "code",
     "collapsed": false,
     "input": [
      "from helpers import *\n",
      "import data"
     ],
     "language": "python",
     "metadata": {},
     "outputs": [],
     "prompt_number": 2
    },
    {
     "cell_type": "code",
     "collapsed": false,
     "input": [
      "gtf_file = os.path.join(local_data, 'reference', 'GRCh37_ERCC_GFP_RNASpikes.gtf')"
     ],
     "language": "python",
     "metadata": {},
     "outputs": [],
     "prompt_number": 3
    },
    {
     "cell_type": "code",
     "collapsed": false,
     "input": [
      "bam_directory = os.path.join(local_data,\n",
      "                          'nov_24_run',\n",
      "                          'HBPC_RSEM_RNASeq_PV_12012014',\n",
      "                          'BAM_files',\n",
      "                          'genome')"
     ],
     "language": "python",
     "metadata": {},
     "outputs": [],
     "prompt_number": 4
    },
    {
     "cell_type": "code",
     "collapsed": false,
     "input": [
      "htseq_directory = os.path.join(local_data, 'nov_24_run', \n",
      "                               'HBPC_RSEM_RNASeq_PV_12012014',\n",
      "                               'htseq_counts')"
     ],
     "language": "python",
     "metadata": {},
     "outputs": [],
     "prompt_number": 5
    },
    {
     "cell_type": "code",
     "collapsed": false,
     "input": [
      "'''\n",
      "for fn in os.listdir(bam_directory):\n",
      "    if fn.endswith('genome.sorted.bam'):\n",
      "        sample_bam = os.path.join(bam_directory, fn)\n",
      "        htseq_fn = os.path.join(htseq_directory, fn.split('.')[0]+'.htseqcounts')\n",
      "        !htseq-count -f bam -t gene $sample_bam $gtf_file > $htseq_fn\n",
      "'''"
     ],
     "language": "python",
     "metadata": {},
     "outputs": [
      {
       "metadata": {},
       "output_type": "pyout",
       "prompt_number": 6,
       "text": [
        "\"\\nfor fn in os.listdir(bam_directory):\\n    if fn.endswith('genome.sorted.bam'):\\n        sample_bam = os.path.join(bam_directory, fn)\\n        htseq_fn = os.path.join(htseq_directory, fn.split('.')[0]+'.htseqcounts')\\n        !htseq-count -f bam -t gene $sample_bam $gtf_file > $htseq_fn\\n\""
       ]
      }
     ],
     "prompt_number": 6
    },
    {
     "cell_type": "code",
     "collapsed": false,
     "input": [
      "def load_htseq(fn):\n",
      "    sample_id = os.path.basename(fn).split('.')[0]\n",
      "    sample = get_sample_map()[sample_id]\n",
      "    sample_htseq = pd.read_table(fn, sep='\\t', \n",
      "                                 names=['Gene', sample], index_col=0)\n",
      "    return sample_htseq"
     ],
     "language": "python",
     "metadata": {},
     "outputs": [],
     "prompt_number": 7
    },
    {
     "cell_type": "code",
     "collapsed": false,
     "input": [
      "htseq_counts = pd.concat([load_htseq(os.path.join(htseq_directory, fn))\n",
      "                          for fn in os.listdir(htseq_directory)\n",
      "                          if fn.split('.')[0] in get_sample_map()], axis=1)"
     ],
     "language": "python",
     "metadata": {},
     "outputs": [],
     "prompt_number": 8
    },
    {
     "cell_type": "code",
     "collapsed": false,
     "input": [
      "high_expressed_df = pd.read_table('../../../data/high_expressed_genes.csv',\n",
      "                                  sep=',')"
     ],
     "language": "python",
     "metadata": {},
     "outputs": [],
     "prompt_number": 9
    },
    {
     "cell_type": "code",
     "collapsed": false,
     "input": [
      "high_counts = htseq_counts.merge(high_expressed_df[['gene_id','gene_name']],\n",
      "                                 left_index=True, right_on=['gene_id'])"
     ],
     "language": "python",
     "metadata": {},
     "outputs": [],
     "prompt_number": 14
    },
    {
     "cell_type": "code",
     "collapsed": false,
     "input": [
      "high_counts.drop_duplicates(['gene_name'], inplace=True)\n",
      "high_counts.set_index(['gene_name'], inplace=True)\n",
      "del high_counts['gene_id']"
     ],
     "language": "python",
     "metadata": {},
     "outputs": [],
     "prompt_number": 16
    },
    {
     "cell_type": "code",
     "collapsed": false,
     "input": [
      "high_counts.sort(axis=1).to_csv('../../../data/htseq_counts.high.R-ready.csv')"
     ],
     "language": "python",
     "metadata": {},
     "outputs": [],
     "prompt_number": 17
    },
    {
     "cell_type": "code",
     "collapsed": false,
     "input": [],
     "language": "python",
     "metadata": {},
     "outputs": []
    },
    {
     "cell_type": "code",
     "collapsed": false,
     "input": [
      "expressed_df_gtf = pd.read_table('../../../data/expressed_genes_gtf.csv',\n",
      "                                 sep=',')"
     ],
     "language": "python",
     "metadata": {},
     "outputs": [],
     "prompt_number": 43
    },
    {
     "cell_type": "code",
     "collapsed": false,
     "input": [
      "relevant_genes = expressed_df_gtf[['gene_id', 'gene_name']]\n"
     ],
     "language": "python",
     "metadata": {},
     "outputs": [],
     "prompt_number": 46
    },
    {
     "cell_type": "code",
     "collapsed": false,
     "input": [
      "htseq_counts = htseq_counts.merge(relevant_genes, left_index=True, right_on=['gene_id'])"
     ],
     "language": "python",
     "metadata": {},
     "outputs": [],
     "prompt_number": 60
    },
    {
     "cell_type": "code",
     "collapsed": false,
     "input": [
      "htseq_counts.drop_duplicates(['gene_name'], inplace=True)"
     ],
     "language": "python",
     "metadata": {},
     "outputs": [],
     "prompt_number": 61
    },
    {
     "cell_type": "code",
     "collapsed": false,
     "input": [
      "htseq_counts.set_index(['gene_name'], inplace=True)"
     ],
     "language": "python",
     "metadata": {},
     "outputs": [],
     "prompt_number": 62
    },
    {
     "cell_type": "code",
     "collapsed": false,
     "input": [
      "del htseq_counts['gene_id']"
     ],
     "language": "python",
     "metadata": {},
     "outputs": [],
     "prompt_number": 63
    },
    {
     "cell_type": "code",
     "collapsed": false,
     "input": [
      "htseq_counts.sort(axis=1).to_csv('../../../data/htseq_counts.R-ready.csv')"
     ],
     "language": "python",
     "metadata": {},
     "outputs": [],
     "prompt_number": 65
    },
    {
     "cell_type": "code",
     "collapsed": false,
     "input": [],
     "language": "python",
     "metadata": {},
     "outputs": []
    }
   ],
   "metadata": {}
  }
 ]
}