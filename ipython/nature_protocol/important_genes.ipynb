{
 "metadata": {
  "name": "",
  "signature": "sha256:430285b000ebeb23501d1e32a6a3f8eb3bc1031b8d050df84f3edf2f497d34c2"
 },
 "nbformat": 3,
 "nbformat_minor": 0,
 "worksheets": [
  {
   "cells": [
    {
     "cell_type": "code",
     "collapsed": false,
     "input": [
      "import sys\n",
      "sys.path.append('../../src/')\n",
      "import pandas as pd\n",
      "import seaborn as sns\n",
      "import os\n",
      "%pylab inline\n",
      "%load_ext autoreload\n",
      "%autoreload 2"
     ],
     "language": "python",
     "metadata": {},
     "outputs": [
      {
       "output_type": "stream",
       "stream": "stdout",
       "text": [
        "Populating the interactive namespace from numpy and matplotlib\n"
       ]
      }
     ],
     "prompt_number": 1
    },
    {
     "cell_type": "code",
     "collapsed": false,
     "input": [
      "from helpers import *\n",
      "import data"
     ],
     "language": "python",
     "metadata": {},
     "outputs": [],
     "prompt_number": 2
    },
    {
     "cell_type": "code",
     "collapsed": false,
     "input": [
      "tpm_df = data.load_tpms()"
     ],
     "language": "python",
     "metadata": {},
     "outputs": [],
     "prompt_number": 3
    },
    {
     "cell_type": "code",
     "collapsed": false,
     "input": [
      "tpm_df = data.filter_df(tpm_df, genes_only=True)"
     ],
     "language": "python",
     "metadata": {},
     "outputs": [],
     "prompt_number": 4
    },
    {
     "cell_type": "heading",
     "level": 3,
     "metadata": {},
     "source": [
      "List of genes based on control"
     ]
    },
    {
     "cell_type": "code",
     "collapsed": false,
     "input": [
      "control = '3DHCN100pg111314'\n",
      "control_name = get_sample_map()[control]\n",
      "low, mid, high = data.get_low_mid_high_genes(tpm_df[control_name])"
     ],
     "language": "python",
     "metadata": {},
     "outputs": [],
     "prompt_number": 5
    },
    {
     "cell_type": "heading",
     "level": 3,
     "metadata": {},
     "source": [
      "Let's take all genes that are expressed in at least 2 samples"
     ]
    },
    {
     "cell_type": "code",
     "collapsed": false,
     "input": [
      "expressed_df = tpm_df[sum(tpm_df > 0, axis=1) > 1]"
     ],
     "language": "python",
     "metadata": {},
     "outputs": [],
     "prompt_number": 5
    },
    {
     "cell_type": "code",
     "collapsed": false,
     "input": [
      "len(expressed_df)"
     ],
     "language": "python",
     "metadata": {},
     "outputs": [
      {
       "metadata": {},
       "output_type": "pyout",
       "prompt_number": 6,
       "text": [
        "14160"
       ]
      }
     ],
     "prompt_number": 6
    },
    {
     "cell_type": "heading",
     "level": 3,
     "metadata": {},
     "source": [
      "Load GTF file to get gene information"
     ]
    },
    {
     "cell_type": "code",
     "collapsed": false,
     "input": [
      "gencode_gtf = \"../../../../gencode.v16.annotation.gtf.gz\""
     ],
     "language": "python",
     "metadata": {},
     "outputs": [],
     "prompt_number": 6
    },
    {
     "cell_type": "code",
     "collapsed": false,
     "input": [
      "gencode_gtf_df = pd.read_table(gencode_gtf, skiprows=5, usecols=[6,8], names=['strand','Information'], compression='gzip')"
     ],
     "language": "python",
     "metadata": {},
     "outputs": [],
     "prompt_number": 7
    },
    {
     "cell_type": "code",
     "collapsed": false,
     "input": [
      "import re"
     ],
     "language": "python",
     "metadata": {},
     "outputs": [],
     "prompt_number": 8
    },
    {
     "cell_type": "code",
     "collapsed": false,
     "input": [
      "def extract_field(fieldname, information):\n",
      "    try:\n",
      "        return re.search(fieldname+' \"([\\w.-]+)\"', information).group(1)\n",
      "    except:\n",
      "        return \"None\"\n",
      "\n",
      "gencode_gtf_df['gene_id'] = gencode_gtf_df['Information'].map(lambda x: extract_field('gene_id', x))\n",
      "gencode_gtf_df['gene_name'] = gencode_gtf_df['Information'].map(lambda x: extract_field('gene_name', x))\n",
      "gencode_gtf_df['gene_type'] = gencode_gtf_df['Information'].map(lambda x: extract_field('gene_type', x))\n",
      "#gencode_gtf_df['transcript_id'] = gencode_gtf_df['Information'].map(lambda x: extract_field('transcript_id', x))\n"
     ],
     "language": "python",
     "metadata": {},
     "outputs": [],
     "prompt_number": 9
    },
    {
     "cell_type": "code",
     "collapsed": false,
     "input": [
      "gencode_gtf_df = gencode_gtf_df.drop_duplicates(['gene_id', 'gene_name', 'gene_type'])"
     ],
     "language": "python",
     "metadata": {},
     "outputs": [],
     "prompt_number": 10
    },
    {
     "cell_type": "code",
     "collapsed": false,
     "input": [
      "gencode_gtf_df[gencode_gtf_df.gene_type == \"protein_coding\"].head().gene_id"
     ],
     "language": "python",
     "metadata": {},
     "outputs": [
      {
       "metadata": {},
       "output_type": "pyout",
       "prompt_number": 45,
       "text": [
        "93     ENSG00000237613.2\n",
        "108    ENSG00000268020.1\n",
        "119    ENSG00000186092.4\n",
        "151    ENSG00000237683.5\n",
        "283    ENSG00000235249.1\n",
        "Name: gene_id, dtype: object"
       ]
      }
     ],
     "prompt_number": 45
    },
    {
     "cell_type": "code",
     "collapsed": false,
     "input": [
      "gencode_gtf_df[gencode_gtf_df['gene_id'].isin(high.index)].to_csv('../../../data/high_expressed_genes.csv')"
     ],
     "language": "python",
     "metadata": {},
     "outputs": [],
     "prompt_number": 14
    },
    {
     "cell_type": "code",
     "collapsed": false,
     "input": [
      "expressed_df_gtf = expressed_df.merge(gencode_gtf_df, left_index=True, right_on=['gene_id'])"
     ],
     "language": "python",
     "metadata": {},
     "outputs": [],
     "prompt_number": 46
    },
    {
     "cell_type": "code",
     "collapsed": false,
     "input": [
      "expressed_df_gtf = expressed_df_gtf[expressed_df_gtf.gene_type == 'protein_coding']"
     ],
     "language": "python",
     "metadata": {},
     "outputs": [],
     "prompt_number": 56
    },
    {
     "cell_type": "code",
     "collapsed": false,
     "input": [
      "expressed_df_gtf[['gene_id']].to_csv('../../../data/relevant_genes.csv', index=False)"
     ],
     "language": "python",
     "metadata": {},
     "outputs": [],
     "prompt_number": 57
    },
    {
     "cell_type": "code",
     "collapsed": false,
     "input": [
      "expressed_df_gtf.to_csv('../../../data/expressed_genes_gtf.csv', index=False)"
     ],
     "language": "python",
     "metadata": {},
     "outputs": [],
     "prompt_number": 54
    },
    {
     "cell_type": "code",
     "collapsed": false,
     "input": [],
     "language": "python",
     "metadata": {},
     "outputs": []
    }
   ],
   "metadata": {}
  }
 ]
}